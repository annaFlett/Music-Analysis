{
 "cells": [
  {
   "cell_type": "code",
   "execution_count": 114,
   "id": "71632525",
   "metadata": {},
   "outputs": [],
   "source": [
    "import os\n",
    "from dotenv import load_dotenv\n",
    "import requests\n",
    "import pandas as pd\n",
    "import time\n",
    "\n",
    "load_dotenv();"
   ]
  },
  {
   "cell_type": "code",
   "execution_count": 115,
   "id": "d234de81",
   "metadata": {},
   "outputs": [],
   "source": [
    "# utility to return (artist_id , song/album id )\n",
    "def extract_ids(rows,arr):\n",
    "    artists,id = rows\n",
    "    for artist in artists:\n",
    "        arr.append((artist['id'],id))"
   ]
  },
  {
   "cell_type": "code",
   "execution_count": 116,
   "id": "78ffd79a",
   "metadata": {},
   "outputs": [],
   "source": [
    "ENDPOINT = \"https://api.spotify.com/v1/me/tracks\"\n",
    "HEADERS={f\"Authorization\":f\"Bearer  {os.getenv(\"ACCESS_TOKEN\")}\"}\n",
    "ALBUMS_PATH = os.getenv(\"ALBUMS_CSV\")\n",
    "ARTISTS_PATH = os.getenv(\"ARTISTS_CSV\")\n",
    "SONGS_PATH = os.getenv(\"SONGS_CSV\")\n",
    "ARTISTS_ALBUMS_PATH = os.getenv(\"ARTIST_ALBUMS_CSV\")\n",
    "ARTISTS_SONGS_PATH = os.getenv(\"ARTISTS_SONGS_CSV\")\n",
    "\n",
    "collection , art_song_pairs , alb_art_pairs = [] , [] , []\n",
    "original_songs = pd.read_csv(SONGS_PATH,index_col=0)\n",
    "original_artists = pd.read_csv(ARTISTS_PATH,index_col=0)"
   ]
  },
  {
   "cell_type": "code",
   "execution_count": 117,
   "id": "3706f55e",
   "metadata": {},
   "outputs": [
    {
     "name": "stdout",
     "output_type": "stream",
     "text": [
      "200\n",
      "200\n",
      "200\n",
      "200\n",
      "200\n",
      "200\n"
     ]
    }
   ],
   "source": [
    "# API request to get all songs in 'liked songs'. Be care to ensure limit + offset get every song in the playlist\n",
    "# Collection is a list of songs with all info attached\n",
    "# i.e doesn't stop short\n",
    "for offset in range(0,6):\n",
    "    params = {'limit' : 49, 'offset' : offset*49}\n",
    "    response = requests.get(ENDPOINT,headers=HEADERS,params=params)\n",
    "    print(response.status_code)\n",
    "    for x in response.json()['items']:\n",
    "        collection.append(x['track'])"
   ]
  },
  {
   "cell_type": "code",
   "execution_count": 118,
   "id": "54ea3e76",
   "metadata": {},
   "outputs": [],
   "source": [
    "## Get Albums database\n",
    "dfs_albums = [x['album'] for x in collection]\n",
    "albums = pd.DataFrame(df for df in dfs_albums)\n",
    "albums[['artists','id']].apply(lambda x : extract_ids(x,alb_art_pairs),axis=1) # for albums-artists\n",
    "albums['external_urls'] = albums['external_urls'].apply(lambda x : x['spotify'])\n",
    "albums.drop(columns=['artists'],inplace=True,axis=1)\n",
    "albums.to_csv(path_or_buf = ALBUMS_PATH)"
   ]
  },
  {
   "cell_type": "code",
   "execution_count": 119,
   "id": "b5742d95",
   "metadata": {},
   "outputs": [],
   "source": [
    "## Gets artist - album database\n",
    "art_albs = pd.DataFrame(alb_art_pairs,columns=[\"ArtistId\",\"AlbumId\"])\n",
    "art_albs.to_csv(path_or_buf = ARTISTS_ALBUMS_PATH)"
   ]
  },
  {
   "cell_type": "code",
   "execution_count": 120,
   "id": "8623fd7b",
   "metadata": {},
   "outputs": [],
   "source": [
    "# Gets artists database + adds on country\n",
    "# Note has to work slightly different as deals with a lists of artists for each song\n",
    "artists =  []\n",
    "dfs_artists = [x['artists'] for x in collection]\n",
    "for x in dfs_artists:\n",
    "    for artist in x:\n",
    "        artists.append(pd.DataFrame(artist))\n",
    "artists_expanded = pd.concat(artists)\n"
   ]
  },
  {
   "cell_type": "code",
   "execution_count": 121,
   "id": "4f7deae6",
   "metadata": {},
   "outputs": [
    {
     "data": {
      "text/html": [
       "<div>\n",
       "<style scoped>\n",
       "    .dataframe tbody tr th:only-of-type {\n",
       "        vertical-align: middle;\n",
       "    }\n",
       "\n",
       "    .dataframe tbody tr th {\n",
       "        vertical-align: top;\n",
       "    }\n",
       "\n",
       "    .dataframe thead th {\n",
       "        text-align: right;\n",
       "    }\n",
       "</style>\n",
       "<table border=\"1\" class=\"dataframe\">\n",
       "  <thead>\n",
       "    <tr style=\"text-align: right;\">\n",
       "      <th></th>\n",
       "      <th>external_urls</th>\n",
       "      <th>href</th>\n",
       "      <th>id</th>\n",
       "      <th>name</th>\n",
       "      <th>type</th>\n",
       "      <th>uri</th>\n",
       "      <th>country</th>\n",
       "    </tr>\n",
       "  </thead>\n",
       "  <tbody>\n",
       "  </tbody>\n",
       "</table>\n",
       "</div>"
      ],
      "text/plain": [
       "Empty DataFrame\n",
       "Columns: [external_urls, href, id, name, type, uri, country]\n",
       "Index: []"
      ]
     },
     "execution_count": 121,
     "metadata": {},
     "output_type": "execute_result"
    }
   ],
   "source": [
    "added_artists = pd.concat([original_artists, artists_expanded]).drop_duplicates(keep=False)\n",
    "added_artists.drop_duplicates(subset=['id'],inplace=True)\n",
    "added_artists = added_artists[added_artists['country'].isna()]\n",
    "added_artists"
   ]
  },
  {
   "cell_type": "code",
   "execution_count": 122,
   "id": "f0a55c06",
   "metadata": {},
   "outputs": [],
   "source": [
    "artists_list = added_artists['name'].to_list()\n",
    "artists_ids = added_artists['id'].to_list()\n",
    "COUNTRY_ENDPOINT = \"https://musicbrainz.org/ws/2/artist\"\n",
    "COUNTRY_HEADERS = {'User-Agent': \"spotify_data_analysis/1.0.0 annabelflett@gmail.com\"}\n",
    "\n",
    "places = []\n",
    "for name in artists_list:\n",
    "    params = {'query' : name,\"limit\" : 1,'fmt':'json'}\n",
    "    response = requests.get(COUNTRY_ENDPOINT,headers=COUNTRY_HEADERS,params=params)\n",
    "    try: \n",
    "        country = response.json()['artists'][0]['area']['name']\n",
    "        places.append(country)\n",
    "    except KeyError:\n",
    "        places.append(None)\n",
    "    time.sleep(1)\n",
    "\n",
    "added_artists['country'] = places\n",
    "z = pd.concat([original_artists,added_artists],axis=0).drop_duplicates()\n",
    "z.to_csv(ARTISTS_PATH)"
   ]
  },
  {
   "cell_type": "code",
   "execution_count": 123,
   "id": "de252fff",
   "metadata": {},
   "outputs": [],
   "source": [
    "# Gets songs database\n",
    "songs = pd.DataFrame(df for df in collection)\n",
    "songs['album_id']= songs['album'].apply(lambda x : x['id'])\n",
    "songs[['artists','id']].apply(lambda x : extract_ids(x,art_song_pairs),axis=1)\n",
    "songs['external_urls'] = songs['external_urls'].apply(lambda x : x['spotify'])\n",
    "songs['isrc'] = songs['external_ids'].apply(lambda x : x['isrc'])\n",
    "songs.drop(columns=['album','artists','external_ids'],inplace=True,axis=1)\n",
    "songs.to_csv(path_or_buf = SONGS_PATH);"
   ]
  },
  {
   "cell_type": "code",
   "execution_count": 124,
   "id": "fb0de076",
   "metadata": {},
   "outputs": [
    {
     "data": {
      "text/plain": [
       "[]"
      ]
     },
     "execution_count": 124,
     "metadata": {},
     "output_type": "execute_result"
    }
   ],
   "source": [
    "added_songs = pd.concat([songs['id'],original_songs['id']]).drop_duplicates(keep=False).to_list()\n",
    "added_songs"
   ]
  },
  {
   "cell_type": "code",
   "execution_count": 125,
   "id": "57b08caf",
   "metadata": {},
   "outputs": [],
   "source": [
    "# Gets artist - song database\n",
    "artists_songs = pd.DataFrame(art_song_pairs,columns=[\"ArtistId\",\"SongId\"])\n",
    "artists_songs.to_csv(path_or_buf = ARTISTS_SONGS_PATH)"
   ]
  },
  {
   "cell_type": "code",
   "execution_count": 126,
   "id": "1279290c",
   "metadata": {},
   "outputs": [],
   "source": [
    "# Update song_stats\n",
    "if added_songs != []:\n",
    "    print(\"adding songs\")\n",
    "    STATS_ENDPOINT = \"https://api.reccobeats.com/v1/audio-features\"\n",
    "    STATS_HEADERS = {'Accept': 'application/json'}\n",
    "    original_song_stats = pd.read_csv(os.getenv(\"SONG_STATS_CSV\"),index_col=0)\n",
    "    ids_chunked = [added_songs[i:i+40] for i in range(0,len(added_songs)+1,40)]\n",
    "    df = []\n",
    "\n",
    "    for song in ids_chunked:\n",
    "        params = {'ids' : song}\n",
    "        response = requests.get(STATS_ENDPOINT,headers=STATS_HEADERS,params=params)\n",
    "        print(response.json())\n",
    "        for x in response.json()['content']:\n",
    "            df.append(x)\n",
    "        \n",
    "\n",
    "\n",
    "    song_stats = pd.DataFrame(df)\n",
    "    try :\n",
    "        song_stats['spotify_id'] = song_stats['href'].apply(lambda x : x[31:])\n",
    "    except KeyError:\n",
    "        pass\n",
    "    song_stats = pd.concat([song_stats,original_song_stats],axis=0)\n",
    "\n",
    "    x = pd.merge(left=songs,right=song_stats,left_on='id',right_on='spotify_id',how='left')\n",
    "    na_ids = (x[x['spotify_id'].isna()]['id_x']).rename('spotify_id')\n",
    "    song_stats = pd.concat([song_stats,na_ids],axis=0)\n",
    "    song_stats.to_csv(os.getenv(\"SONG_STATS_CSV\"))"
   ]
  }
 ],
 "metadata": {
  "kernelspec": {
   "display_name": "Python 3",
   "language": "python",
   "name": "python3"
  },
  "language_info": {
   "codemirror_mode": {
    "name": "ipython",
    "version": 3
   },
   "file_extension": ".py",
   "mimetype": "text/x-python",
   "name": "python",
   "nbconvert_exporter": "python",
   "pygments_lexer": "ipython3",
   "version": "3.13.1"
  }
 },
 "nbformat": 4,
 "nbformat_minor": 5
}
