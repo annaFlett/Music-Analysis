{
 "cells": [
  {
   "cell_type": "code",
   "execution_count": 3,
   "id": "71632525",
   "metadata": {},
   "outputs": [
    {
     "data": {
      "text/plain": [
       "True"
      ]
     },
     "execution_count": 3,
     "metadata": {},
     "output_type": "execute_result"
    }
   ],
   "source": [
    "import os\n",
    "from dotenv import load_dotenv\n",
    "import requests\n",
    "import pandas as pd\n",
    "\n",
    "load_dotenv()\n"
   ]
  },
  {
   "cell_type": "code",
   "execution_count": 4,
   "id": "d234de81",
   "metadata": {},
   "outputs": [],
   "source": [
    "# utility to return (artist_id , song/album id )\n",
    "def extract_ids(rows,arr):\n",
    "    artists,id = rows\n",
    "    for artist in artists:\n",
    "        arr.append((artist['id'],id))"
   ]
  },
  {
   "cell_type": "code",
   "execution_count": null,
   "id": "78ffd79a",
   "metadata": {},
   "outputs": [],
   "source": [
    "ENDPOINT = \"https://api.spotify.com/v1/me/tracks\"\n",
    "HEADERS={f\"Authorization\":f\"Bearer  {os.getenv(\"ACCESS_TOKEN\")}\"}\n",
    "ALBUMS_PATH = \"csv/albums.csv\"\n",
    "ARTISTS_PATH = \"csv/artists.csv\"\n",
    "SONGS_PATH = \"csv/songs.csv\"\n",
    "\n",
    "collection , art_song_pairs , alb_art_pairs = [] , [] , []"
   ]
  },
  {
   "cell_type": "code",
   "execution_count": null,
   "id": "3706f55e",
   "metadata": {},
   "outputs": [],
   "source": [
    "# API request to get all songs in 'liked songs'. Be care to ensure limit + offset get every song in the playlist\n",
    "# Collection is a list of songs with all info attached\n",
    "# i.e doesn't stop short\n",
    "for offset in range(0,5):\n",
    "    params = {'limit' : 49, 'offset' : offset*50}\n",
    "    response = requests.get(ENDPOINT,headers=HEADERS,params=params)\n",
    "    print(response.status_code)\n",
    "    for x in response.json()['items']:\n",
    "        collection.append(x['track'])"
   ]
  },
  {
   "cell_type": "code",
   "execution_count": null,
   "id": "54ea3e76",
   "metadata": {},
   "outputs": [],
   "source": [
    "## Get Albums database\n",
    "dfs_albums = [x['album'] for x in collection]\n",
    "albums = pd.DataFrame(df for df in dfs_albums)\n",
    "albums[['artists','id']].apply(lambda x : extract_ids(x,alb_art_pairs),axis=1) # for albums-artists\n",
    "albums['external_urls'] = albums['external_urls'].apply(lambda x : x['spotify'])\n",
    "albums.drop(columns=['artists'],inplace=True,axis=1)\n",
    "albums.to_csv(path_or_buf = ALBUMS_PATH)"
   ]
  },
  {
   "cell_type": "code",
   "execution_count": null,
   "id": "b5742d95",
   "metadata": {},
   "outputs": [],
   "source": [
    "## Gets artist - album database\n",
    "art_albs = pd.DataFrame(alb_art_pairs,columns=[\"ArtistId\",\"AlbumId\"])\n",
    "art_albs.to_csv(path_or_buf = \"artist_albums.csv\")"
   ]
  },
  {
   "cell_type": "code",
   "execution_count": null,
   "id": "8623fd7b",
   "metadata": {},
   "outputs": [],
   "source": [
    "# Gets artists database\n",
    "# Note has to work slightly different as deals with a lists of artists for each song\n",
    "artists =  []\n",
    "dfs_artists = [x['artists'] for x in collection]\n",
    "for x in dfs_artists:\n",
    "    for artist in x:\n",
    "        artists.append(pd.DataFrame(artist))\n",
    "artists_expanded = pd.concat(artists)\n",
    "artists_expanded.to_csv(path_or_buf = ARTISTS_PATH)"
   ]
  },
  {
   "cell_type": "code",
   "execution_count": null,
   "id": "de252fff",
   "metadata": {},
   "outputs": [],
   "source": [
    "# Gets songs database\n",
    "songs = pd.DataFrame(df for df in collection)\n",
    "songs['album_id']= songs['album'].apply(lambda x : x['id'])\n",
    "songs[['artists','id']].apply(lambda x : extract_ids(x,art_song_pairs),axis=1)\n",
    "songs['external_urls'] = songs['external_urls'].apply(lambda x : x['spotify'])\n",
    "songs['isrc'] = songs['external_ids'].apply(lambda x : x['isrc'])\n",
    "songs.drop(columns=['album','artists','external_ids'],inplace=True,axis=1)\n",
    "songs.to_csv(path_or_buf = SONGS_PATH)"
   ]
  },
  {
   "cell_type": "code",
   "execution_count": null,
   "id": "57b08caf",
   "metadata": {},
   "outputs": [],
   "source": [
    "# Gets artist - song database\n",
    "artists_songs = pd.DataFrame(art_song_pairs,columns=[\"ArtistId\",\"SongId\"])\n",
    "artists_songs.to_csv(path_or_buf = \"artist_songs_pairs.csv\")"
   ]
  }
 ],
 "metadata": {
  "kernelspec": {
   "display_name": "Python 3",
   "language": "python",
   "name": "python3"
  },
  "language_info": {
   "codemirror_mode": {
    "name": "ipython",
    "version": 3
   },
   "file_extension": ".py",
   "mimetype": "text/x-python",
   "name": "python",
   "nbconvert_exporter": "python",
   "pygments_lexer": "ipython3",
   "version": "3.13.1"
  }
 },
 "nbformat": 4,
 "nbformat_minor": 5
}
