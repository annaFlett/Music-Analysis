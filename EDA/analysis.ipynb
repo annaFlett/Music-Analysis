{
 "cells": [
  {
   "cell_type": "code",
   "execution_count": 34,
   "id": "5973261c",
   "metadata": {},
   "outputs": [],
   "source": [
    "import pandas as pd\n",
    "import numpy as np\n",
    "import os\n",
    "import seaborn as sns\n",
    "import matplotlib.pyplot as plt\n",
    "import matplotlib.patches as patches\n",
    "import matplotlib.colors as mcolors\n",
    "import matplotlib as mpl\n",
    "import datetime\n",
    "from dotenv import load_dotenv\n",
    "from dash import Dash, dcc, html, Output, Input,ctx\n",
    "import plotly.express as px\n",
    "import plotly.graph_objects as go\n",
    "import plotly.io as pio\n",
    "import csv\n",
    "import cartopy.crs as ccrs\n",
    "import cartopy.io.shapereader as shpreader\n",
    "import plotly.tools as tls\n",
    "import mpld3\n",
    "\n",
    "import math\n",
    "\n",
    "\n",
    "load_dotenv();"
   ]
  },
  {
   "cell_type": "code",
   "execution_count": 2,
   "id": "a2689f1d-9a3a-43b4-9c96-bd60b5f32a57",
   "metadata": {},
   "outputs": [],
   "source": [
    "def make_pretty(styler):\n",
    "    styler.set_caption(\"When do I listen to songs?\")\n",
    "    styler.hide()\n",
    "    return styler"
   ]
  },
  {
   "cell_type": "code",
   "execution_count": 3,
   "id": "1ad14e5c",
   "metadata": {},
   "outputs": [],
   "source": [
    "history = pd.read_csv(os.getenv(\"SONGHISTORY_CSV\"),index_col=0)\n",
    "art_song = pd.read_csv(os.getenv(\"ARTISTS_SONGS_CSV\"),index_col=0)\n",
    "songs = pd.read_csv(os.getenv(\"SONGS_CSV\"),index_col=0)\n",
    "artists = pd.read_csv(os.getenv(\"ARTISTS_CSV\"),index_col=0)"
   ]
  },
  {
   "cell_type": "code",
   "execution_count": 4,
   "id": "a7ade965",
   "metadata": {},
   "outputs": [],
   "source": [
    "# Preliminary cleaning \n",
    "history.drop(columns=['preview_url'],inplace=True)\n",
    "history.drop_duplicates(inplace=True)\n",
    "## TODO - FIX PROBLEM OF THE BACK TO BACK DUPLICATES"
   ]
  },
  {
   "cell_type": "code",
   "execution_count": 5,
   "id": "1993e098-94cb-4c9c-b5c8-7a53d48f2d57",
   "metadata": {},
   "outputs": [],
   "source": [
    "def account_for_germany(x):\n",
    "    if x.replace(tzinfo=None) < datetime.datetime(year=2025,month=8,day=9,hour=18):\n",
    "        return x + datetime.timedelta(hours=1)\n",
    "    return x"
   ]
  },
  {
   "cell_type": "code",
   "execution_count": 6,
   "id": "632b0de7-c0aa-481c-8b3c-5448806d2319",
   "metadata": {},
   "outputs": [],
   "source": [
    "# history is purely for August + fixed for Germany\n",
    "history = pd.read_csv(os.getenv(\"SONGHISTORY_CSV\"),index_col=0)\n",
    "history['played_at'] = pd.to_datetime(history['played_at'])\n",
    "history = history[history['played_at'].dt.date > datetime.datetime(year=2025,month=8,day=1).date()]\n",
    "history['played_at'] = history['played_at'].apply(lambda x : account_for_germany(x))"
   ]
  },
  {
   "cell_type": "code",
   "execution_count": 7,
   "id": "69717208",
   "metadata": {},
   "outputs": [
    {
     "data": {
      "text/plain": [
       "Index(['available_markets', 'disc_number', 'duration_ms', 'explicit',\n",
       "       'external_urls', 'href', 'id', 'is_local', 'name', 'popularity',\n",
       "       'preview_url', 'track_number', 'type', 'uri', 'album_id', 'isrc',\n",
       "       'context', 'played_at'],\n",
       "      dtype='object')"
      ]
     },
     "execution_count": 7,
     "metadata": {},
     "output_type": "execute_result"
    }
   ],
   "source": [
    "history.columns"
   ]
  },
  {
   "cell_type": "code",
   "execution_count": 8,
   "id": "f7b6351f-1112-45c7-aaf7-2f0cbd6d7770",
   "metadata": {},
   "outputs": [
    {
     "name": "stdout",
     "output_type": "stream",
     "text": [
      "Average liked song duration:  3m 43s\n"
     ]
    }
   ],
   "source": [
    "time_s = (songs['duration_ms'].mean()/1000)\n",
    "print(f\"Average liked song duration:  {int(time_s // 60)}m {round(time_s % 60)}s\")\n",
    "## do min max and average song lenght using agg"
   ]
  },
  {
   "cell_type": "code",
   "execution_count": 9,
   "id": "ed461cfa-b13d-4d88-a6fa-3204e335428c",
   "metadata": {},
   "outputs": [
    {
     "data": {
      "text/html": [
       "<style type=\"text/css\">\n",
       "</style>\n",
       "<table id=\"T_a93ab\">\n",
       "  <thead>\n",
       "    <tr>\n",
       "      <th id=\"T_a93ab_level0_col0\" class=\"col_heading level0 col0\" >Artists Name</th>\n",
       "      <th id=\"T_a93ab_level0_col1\" class=\"col_heading level0 col1\" >No. of songs</th>\n",
       "    </tr>\n",
       "  </thead>\n",
       "  <tbody>\n",
       "    <tr>\n",
       "      <td id=\"T_a93ab_row0_col0\" class=\"data row0 col0\" >Barrett Wilbert Weed</td>\n",
       "      <td id=\"T_a93ab_row0_col1\" class=\"data row0 col1\" >12</td>\n",
       "    </tr>\n",
       "    <tr>\n",
       "      <td id=\"T_a93ab_row1_col0\" class=\"data row1 col0\" >Original Broadway Cast of Mean Girls</td>\n",
       "      <td id=\"T_a93ab_row1_col1\" class=\"data row1 col1\" >11</td>\n",
       "    </tr>\n",
       "    <tr>\n",
       "      <td id=\"T_a93ab_row2_col0\" class=\"data row2 col0\" >The Beatles</td>\n",
       "      <td id=\"T_a93ab_row2_col1\" class=\"data row2 col1\" >10</td>\n",
       "    </tr>\n",
       "    <tr>\n",
       "      <td id=\"T_a93ab_row3_col0\" class=\"data row3 col0\" >Erika Henningsen</td>\n",
       "      <td id=\"T_a93ab_row3_col1\" class=\"data row3 col1\" >10</td>\n",
       "    </tr>\n",
       "    <tr>\n",
       "      <td id=\"T_a93ab_row4_col0\" class=\"data row4 col0\" >Sam Fender</td>\n",
       "      <td id=\"T_a93ab_row4_col1\" class=\"data row4 col1\" >9</td>\n",
       "    </tr>\n",
       "    <tr>\n",
       "      <td id=\"T_a93ab_row5_col0\" class=\"data row5 col0\" >Stromae</td>\n",
       "      <td id=\"T_a93ab_row5_col1\" class=\"data row5 col1\" >8</td>\n",
       "    </tr>\n",
       "    <tr>\n",
       "      <td id=\"T_a93ab_row6_col0\" class=\"data row6 col0\" >Lady Gaga</td>\n",
       "      <td id=\"T_a93ab_row6_col1\" class=\"data row6 col1\" >6</td>\n",
       "    </tr>\n",
       "    <tr>\n",
       "      <td id=\"T_a93ab_row7_col0\" class=\"data row7 col0\" >Twenty One Pilots</td>\n",
       "      <td id=\"T_a93ab_row7_col1\" class=\"data row7 col1\" >6</td>\n",
       "    </tr>\n",
       "    <tr>\n",
       "      <td id=\"T_a93ab_row8_col0\" class=\"data row8 col0\" >Rihanna</td>\n",
       "      <td id=\"T_a93ab_row8_col1\" class=\"data row8 col1\" >6</td>\n",
       "    </tr>\n",
       "    <tr>\n",
       "      <td id=\"T_a93ab_row9_col0\" class=\"data row9 col0\" >Lyn</td>\n",
       "      <td id=\"T_a93ab_row9_col1\" class=\"data row9 col1\" >6</td>\n",
       "    </tr>\n",
       "    <tr>\n",
       "      <td id=\"T_a93ab_row10_col0\" class=\"data row10 col0\" >Katy Perry</td>\n",
       "      <td id=\"T_a93ab_row10_col1\" class=\"data row10 col1\" >6</td>\n",
       "    </tr>\n",
       "    <tr>\n",
       "      <td id=\"T_a93ab_row11_col0\" class=\"data row11 col0\" >Ben Platt</td>\n",
       "      <td id=\"T_a93ab_row11_col1\" class=\"data row11 col1\" >6</td>\n",
       "    </tr>\n",
       "    <tr>\n",
       "      <td id=\"T_a93ab_row12_col0\" class=\"data row12 col0\" >Taylor Swift</td>\n",
       "      <td id=\"T_a93ab_row12_col1\" class=\"data row12 col1\" >5</td>\n",
       "    </tr>\n",
       "    <tr>\n",
       "      <td id=\"T_a93ab_row13_col0\" class=\"data row13 col0\" >Panic! At The Disco</td>\n",
       "      <td id=\"T_a93ab_row13_col1\" class=\"data row13 col1\" >5</td>\n",
       "    </tr>\n",
       "    <tr>\n",
       "      <td id=\"T_a93ab_row14_col0\" class=\"data row14 col0\" >Chappell Roan</td>\n",
       "      <td id=\"T_a93ab_row14_col1\" class=\"data row14 col1\" >5</td>\n",
       "    </tr>\n",
       "    <tr>\n",
       "      <td id=\"T_a93ab_row15_col0\" class=\"data row15 col0\" >Green Day</td>\n",
       "      <td id=\"T_a93ab_row15_col1\" class=\"data row15 col1\" >5</td>\n",
       "    </tr>\n",
       "    <tr>\n",
       "      <td id=\"T_a93ab_row16_col0\" class=\"data row16 col0\" >Ryan McCartan</td>\n",
       "      <td id=\"T_a93ab_row16_col1\" class=\"data row16 col1\" >4</td>\n",
       "    </tr>\n",
       "    <tr>\n",
       "      <td id=\"T_a93ab_row17_col0\" class=\"data row17 col0\" >Bruno Mars</td>\n",
       "      <td id=\"T_a93ab_row17_col1\" class=\"data row17 col1\" >4</td>\n",
       "    </tr>\n",
       "    <tr>\n",
       "      <td id=\"T_a93ab_row18_col0\" class=\"data row18 col0\" >Will Roland</td>\n",
       "      <td id=\"T_a93ab_row18_col1\" class=\"data row18 col1\" >4</td>\n",
       "    </tr>\n",
       "    <tr>\n",
       "      <td id=\"T_a93ab_row19_col0\" class=\"data row19 col0\" >George Ezra</td>\n",
       "      <td id=\"T_a93ab_row19_col1\" class=\"data row19 col1\" >4</td>\n",
       "    </tr>\n",
       "  </tbody>\n",
       "</table>\n"
      ],
      "text/plain": [
       "<pandas.io.formats.style.Styler at 0x17202140ec0>"
      ]
     },
     "execution_count": 9,
     "metadata": {},
     "output_type": "execute_result"
    }
   ],
   "source": [
    "# Artists which appear most frequently in liked songs\n",
    "grouped_by_artists = art_song.groupby(by=[\"ArtistId\"])\n",
    "most_popular = grouped_by_artists['SongId'].count().nlargest(n=20).reset_index()\n",
    "artists_names = artists[['name','id']].drop_duplicates()\n",
    "x = pd.merge(left=artists_names,right=most_popular, left_on='id',right_on='ArtistId',how='right').drop(columns=['ArtistId','id'])\n",
    "x = x.rename(columns={'name':'Artists Name', 'SongId' : 'No. of songs'})\n",
    "x.style.hide()"
   ]
  },
  {
   "cell_type": "code",
   "execution_count": 10,
   "id": "4b65d9dd-6ecc-4002-a2ec-50bccd337dee",
   "metadata": {},
   "outputs": [
    {
     "data": {
      "text/html": [
       "<style type=\"text/css\">\n",
       "</style>\n",
       "<table id=\"T_19bb4\">\n",
       "  <thead>\n",
       "    <tr>\n",
       "      <th id=\"T_19bb4_level0_col0\" class=\"col_heading level0 col0\" >Song Name</th>\n",
       "      <th id=\"T_19bb4_level0_col1\" class=\"col_heading level0 col1\" >No. of listens</th>\n",
       "    </tr>\n",
       "  </thead>\n",
       "  <tbody>\n",
       "    <tr>\n",
       "      <td id=\"T_19bb4_row0_col0\" class=\"data row0 col0\" >Sweet Talk</td>\n",
       "      <td id=\"T_19bb4_row0_col1\" class=\"data row0 col1\" >37</td>\n",
       "    </tr>\n",
       "    <tr>\n",
       "      <td id=\"T_19bb4_row1_col0\" class=\"data row1 col0\" >Everybody Talks</td>\n",
       "      <td id=\"T_19bb4_row1_col1\" class=\"data row1 col1\" >33</td>\n",
       "    </tr>\n",
       "    <tr>\n",
       "      <td id=\"T_19bb4_row2_col0\" class=\"data row2 col0\" >Tongue Tied</td>\n",
       "      <td id=\"T_19bb4_row2_col1\" class=\"data row2 col1\" >26</td>\n",
       "    </tr>\n",
       "    <tr>\n",
       "      <td id=\"T_19bb4_row3_col0\" class=\"data row3 col0\" >Du (Was ich will, bist du)</td>\n",
       "      <td id=\"T_19bb4_row3_col1\" class=\"data row3 col1\" >25</td>\n",
       "    </tr>\n",
       "    <tr>\n",
       "      <td id=\"T_19bb4_row4_col0\" class=\"data row4 col0\" >Hard Times</td>\n",
       "      <td id=\"T_19bb4_row4_col1\" class=\"data row4 col1\" >23</td>\n",
       "    </tr>\n",
       "    <tr>\n",
       "      <td id=\"T_19bb4_row5_col0\" class=\"data row5 col0\" >Put Your Records On</td>\n",
       "      <td id=\"T_19bb4_row5_col1\" class=\"data row5 col1\" >21</td>\n",
       "    </tr>\n",
       "    <tr>\n",
       "      <td id=\"T_19bb4_row6_col0\" class=\"data row6 col0\" >Teenagers</td>\n",
       "      <td id=\"T_19bb4_row6_col1\" class=\"data row6 col1\" >18</td>\n",
       "    </tr>\n",
       "    <tr>\n",
       "      <td id=\"T_19bb4_row7_col0\" class=\"data row7 col0\" >Comeback Kid</td>\n",
       "      <td id=\"T_19bb4_row7_col1\" class=\"data row7 col1\" >18</td>\n",
       "    </tr>\n",
       "    <tr>\n",
       "      <td id=\"T_19bb4_row8_col0\" class=\"data row8 col0\" >Charlemagne</td>\n",
       "      <td id=\"T_19bb4_row8_col1\" class=\"data row8 col1\" >16</td>\n",
       "    </tr>\n",
       "    <tr>\n",
       "      <td id=\"T_19bb4_row9_col0\" class=\"data row9 col0\" >Complicated</td>\n",
       "      <td id=\"T_19bb4_row9_col1\" class=\"data row9 col1\" >15</td>\n",
       "    </tr>\n",
       "  </tbody>\n",
       "</table>\n"
      ],
      "text/plain": [
       "<pandas.io.formats.style.Styler at 0x17202164410>"
      ]
     },
     "execution_count": 10,
     "metadata": {},
     "output_type": "execute_result"
    }
   ],
   "source": [
    "# Most listened to songs in August\n",
    "x = history.groupby(by=['id','name']).size().reset_index().rename(columns={0:'No. of listens','name' : 'Song Name'}).drop(columns=['id'])\n",
    "x = x.sort_values(by='No. of listens',ascending=False)\n",
    "x.head(10).style.hide()"
   ]
  },
  {
   "cell_type": "code",
   "execution_count": 11,
   "id": "2b01dcce-3b39-40c1-a6d9-c4847cf56878",
   "metadata": {},
   "outputs": [
    {
     "data": {
      "text/html": [
       "<style type=\"text/css\">\n",
       "</style>\n",
       "<table id=\"T_c88e1\">\n",
       "  <thead>\n",
       "    <tr>\n",
       "      <th id=\"T_c88e1_level0_col0\" class=\"col_heading level0 col0\" >Hour</th>\n",
       "      <th id=\"T_c88e1_level0_col1\" class=\"col_heading level0 col1\" >No. of songs</th>\n",
       "    </tr>\n",
       "  </thead>\n",
       "  <tbody>\n",
       "    <tr>\n",
       "      <td id=\"T_c88e1_row0_col0\" class=\"data row0 col0\" >00:00</td>\n",
       "      <td id=\"T_c88e1_row0_col1\" class=\"data row0 col1\" >8</td>\n",
       "    </tr>\n",
       "    <tr>\n",
       "      <td id=\"T_c88e1_row1_col0\" class=\"data row1 col0\" >01:00</td>\n",
       "      <td id=\"T_c88e1_row1_col1\" class=\"data row1 col1\" >1</td>\n",
       "    </tr>\n",
       "    <tr>\n",
       "      <td id=\"T_c88e1_row2_col0\" class=\"data row2 col0\" >02:00</td>\n",
       "      <td id=\"T_c88e1_row2_col1\" class=\"data row2 col1\" >0</td>\n",
       "    </tr>\n",
       "    <tr>\n",
       "      <td id=\"T_c88e1_row3_col0\" class=\"data row3 col0\" >03:00</td>\n",
       "      <td id=\"T_c88e1_row3_col1\" class=\"data row3 col1\" >0</td>\n",
       "    </tr>\n",
       "    <tr>\n",
       "      <td id=\"T_c88e1_row4_col0\" class=\"data row4 col0\" >04:00</td>\n",
       "      <td id=\"T_c88e1_row4_col1\" class=\"data row4 col1\" >0</td>\n",
       "    </tr>\n",
       "    <tr>\n",
       "      <td id=\"T_c88e1_row5_col0\" class=\"data row5 col0\" >05:00</td>\n",
       "      <td id=\"T_c88e1_row5_col1\" class=\"data row5 col1\" >0</td>\n",
       "    </tr>\n",
       "    <tr>\n",
       "      <td id=\"T_c88e1_row6_col0\" class=\"data row6 col0\" >06:00</td>\n",
       "      <td id=\"T_c88e1_row6_col1\" class=\"data row6 col1\" >0</td>\n",
       "    </tr>\n",
       "    <tr>\n",
       "      <td id=\"T_c88e1_row7_col0\" class=\"data row7 col0\" >07:00</td>\n",
       "      <td id=\"T_c88e1_row7_col1\" class=\"data row7 col1\" >12</td>\n",
       "    </tr>\n",
       "    <tr>\n",
       "      <td id=\"T_c88e1_row8_col0\" class=\"data row8 col0\" >08:00</td>\n",
       "      <td id=\"T_c88e1_row8_col1\" class=\"data row8 col1\" >82</td>\n",
       "    </tr>\n",
       "    <tr>\n",
       "      <td id=\"T_c88e1_row9_col0\" class=\"data row9 col0\" >09:00</td>\n",
       "      <td id=\"T_c88e1_row9_col1\" class=\"data row9 col1\" >74</td>\n",
       "    </tr>\n",
       "    <tr>\n",
       "      <td id=\"T_c88e1_row10_col0\" class=\"data row10 col0\" >10:00</td>\n",
       "      <td id=\"T_c88e1_row10_col1\" class=\"data row10 col1\" >111</td>\n",
       "    </tr>\n",
       "    <tr>\n",
       "      <td id=\"T_c88e1_row11_col0\" class=\"data row11 col0\" >11:00</td>\n",
       "      <td id=\"T_c88e1_row11_col1\" class=\"data row11 col1\" >119</td>\n",
       "    </tr>\n",
       "    <tr>\n",
       "      <td id=\"T_c88e1_row12_col0\" class=\"data row12 col0\" >12:00</td>\n",
       "      <td id=\"T_c88e1_row12_col1\" class=\"data row12 col1\" >51</td>\n",
       "    </tr>\n",
       "    <tr>\n",
       "      <td id=\"T_c88e1_row13_col0\" class=\"data row13 col0\" >13:00</td>\n",
       "      <td id=\"T_c88e1_row13_col1\" class=\"data row13 col1\" >67</td>\n",
       "    </tr>\n",
       "    <tr>\n",
       "      <td id=\"T_c88e1_row14_col0\" class=\"data row14 col0\" >14:00</td>\n",
       "      <td id=\"T_c88e1_row14_col1\" class=\"data row14 col1\" >102</td>\n",
       "    </tr>\n",
       "    <tr>\n",
       "      <td id=\"T_c88e1_row15_col0\" class=\"data row15 col0\" >15:00</td>\n",
       "      <td id=\"T_c88e1_row15_col1\" class=\"data row15 col1\" >112</td>\n",
       "    </tr>\n",
       "    <tr>\n",
       "      <td id=\"T_c88e1_row16_col0\" class=\"data row16 col0\" >16:00</td>\n",
       "      <td id=\"T_c88e1_row16_col1\" class=\"data row16 col1\" >159</td>\n",
       "    </tr>\n",
       "    <tr>\n",
       "      <td id=\"T_c88e1_row17_col0\" class=\"data row17 col0\" >17:00</td>\n",
       "      <td id=\"T_c88e1_row17_col1\" class=\"data row17 col1\" >138</td>\n",
       "    </tr>\n",
       "    <tr>\n",
       "      <td id=\"T_c88e1_row18_col0\" class=\"data row18 col0\" >18:00</td>\n",
       "      <td id=\"T_c88e1_row18_col1\" class=\"data row18 col1\" >112</td>\n",
       "    </tr>\n",
       "    <tr>\n",
       "      <td id=\"T_c88e1_row19_col0\" class=\"data row19 col0\" >19:00</td>\n",
       "      <td id=\"T_c88e1_row19_col1\" class=\"data row19 col1\" >97</td>\n",
       "    </tr>\n",
       "    <tr>\n",
       "      <td id=\"T_c88e1_row20_col0\" class=\"data row20 col0\" >20:00</td>\n",
       "      <td id=\"T_c88e1_row20_col1\" class=\"data row20 col1\" >68</td>\n",
       "    </tr>\n",
       "    <tr>\n",
       "      <td id=\"T_c88e1_row21_col0\" class=\"data row21 col0\" >21:00</td>\n",
       "      <td id=\"T_c88e1_row21_col1\" class=\"data row21 col1\" >36</td>\n",
       "    </tr>\n",
       "    <tr>\n",
       "      <td id=\"T_c88e1_row22_col0\" class=\"data row22 col0\" >22:00</td>\n",
       "      <td id=\"T_c88e1_row22_col1\" class=\"data row22 col1\" >38</td>\n",
       "    </tr>\n",
       "    <tr>\n",
       "      <td id=\"T_c88e1_row23_col0\" class=\"data row23 col0\" >23:00</td>\n",
       "      <td id=\"T_c88e1_row23_col1\" class=\"data row23 col1\" >19</td>\n",
       "    </tr>\n",
       "  </tbody>\n",
       "</table>\n"
      ],
      "text/plain": [
       "<pandas.io.formats.style.Styler at 0x17202164a50>"
      ]
     },
     "execution_count": 11,
     "metadata": {},
     "output_type": "execute_result"
    }
   ],
   "source": [
    "# total count, no. of songs listened to per hour\n",
    "history['hour_played'] = history['played_at'].apply(lambda x: x.hour)\n",
    "counts = history['hour_played'].value_counts().reset_index()\n",
    "x = pd.merge(left=pd.Series(np.arange(0,24),name=\"Hour\"),right=counts,left_on=\"Hour\",right_on='hour_played',how='left').fillna(0).astype(int)[['Hour','count']].rename(columns={'count' : 'No. of songs'})\n",
    "x['Hour'] = x['Hour'].apply(lambda x: f\"{x:02d}:00\")\n",
    "x.style.hide()"
   ]
  },
  {
   "cell_type": "code",
   "execution_count": 12,
   "id": "bd2ce46a-6112-4748-a32c-f984a78ce6e7",
   "metadata": {},
   "outputs": [
    {
     "data": {
      "image/png": "[encoded data removed]",
      "text/plain": [
       "<Figure size 640x480 with 1 Axes>"
      ]
     },
     "metadata": {},
     "output_type": "display_data"
    }
   ],
   "source": [
    "LGREY = \"#f0efed\"\n",
    "\n",
    "ax = sns.lineplot(data=x,x='Hour',y='No. of songs',linewidth=2.5,color=\"#32cd32\")\n",
    "plt.xticks(list(map(lambda x: f\"{x:02d}:00\",np.arange(0,24,3))));\n",
    "\n",
    "ax.spines[['top','right']].set_color('#696865')\n",
    "ax.spines[['bottom','left']].set_color(LGREY)\n",
    "ax.spines[['top','right','bottom','left']].set_linewidth(1.25) \n",
    "ax.xaxis.label.set_color(LGREY)\n",
    "ax.yaxis.label.set_color(LGREY)\n",
    "for label in ax.get_xticklabels() + ax.get_yticklabels():\n",
    "    label.set_color(LGREY)\n",
    "ax.tick_params(colors=LGREY)\n",
    "ax.set_facecolor('#696865')\n",
    "fig = ax.get_figure()\n",
    "fig.set_facecolor('#696865')\n",
    "\n",
    "plt.show()\n",
    "# mpld3.save_html(fig,'clean')"
   ]
  },
  {
   "cell_type": "code",
   "execution_count": 13,
   "id": "1bbc56de-701e-4622-8788-300486785c59",
   "metadata": {},
   "outputs": [
    {
     "data": {
      "application/vnd.plotly.v1+json": {
       "config": {
        "plotlyServerURL": "https://plot.ly"
       },
       "data": [
        {
         "hovertemplate": "Hour=%{x}<br>No. of songs=%{y}<extra></extra>",
         "legendgroup": "",
         "line": {
          "color": "#32cd32",
          "dash": "solid",
          "width": 2.5
         },
         "marker": {
          "symbol": "circle"
         },
         "mode": "lines",
         "name": "",
         "orientation": "v",
         "showlegend": false,
         "type": "scatter",
         "x": [
          "00:00",
          "01:00",
          "02:00",
          "03:00",
          "04:00",
          "05:00",
          "06:00",
          "07:00",
          "08:00",
          "09:00",
          "10:00",
          "11:00",
          "12:00",
          "13:00",
          "14:00",
          "15:00",
          "16:00",
          "17:00",
          "18:00",
          "19:00",
          "20:00",
          "21:00",
          "22:00",
          "23:00"
         ],
         "xaxis": "x",
         "y": {
          "bdata": "CAABAAAAAAAAAAAAAAAMAFIASgBvAHcAMwBDAGYAcACfAIoAcABhAEQAJAAmABMA",
          "dtype": "i2"
         },
         "yaxis": "y"
        }
       ],
       "layout": {
        "font": {
         "color": "#f0efed"
        },
        "legend": {
         "tracegroupgap": 0
        },
        "margin": {
         "t": 60
        },
        "paper_bgcolor": "#696865",
        "plot_bgcolor": "#696865",
        "template": {
         "data": {
          "bar": [
           {
            "error_x": {
             "color": "#2a3f5f"
            },
            "error_y": {
             "color": "#2a3f5f"
            },
            "marker": {
             "line": {
              "color": "#E5ECF6",
              "width": 0.5
             },
             "pattern": {
              "fillmode": "overlay",
              "size": 10,
              "solidity": 0.2
             }
            },
            "type": "bar"
           }
          ],
          "barpolar": [
           {
            "marker": {
             "line": {
              "color": "#E5ECF6",
              "width": 0.5
             },
             "pattern": {
              "fillmode": "overlay",
              "size": 10,
              "solidity": 0.2
             }
            },
            "type": "barpolar"
           }
          ],
          "carpet": [
           {
            "aaxis": {
             "endlinecolor": "#2a3f5f",
             "gridcolor": "white",
             "linecolor": "white",
             "minorgridcolor": "white",
             "startlinecolor": "#2a3f5f"
            },
            "baxis": {
             "endlinecolor": "#2a3f5f",
             "gridcolor": "white",
             "linecolor": "white",
             "minorgridcolor": "white",
             "startlinecolor": "#2a3f5f"
            },
            "type": "carpet"
           }
          ],
          "choropleth": [
           {
            "colorbar": {
             "outlinewidth": 0,
             "ticks": ""
            },
            "type": "choropleth"
           }
          ],
          "contour": [
           {
            "colorbar": {
             "outlinewidth": 0,
             "ticks": ""
            },
            "colorscale": [
             [
              0,
              "#0d0887"
             ],
             [
              0.1111111111111111,
              "#46039f"
             ],
             [
              0.2222222222222222,
              "#7201a8"
             ],
             [
              0.3333333333333333,
              "#9c179e"
             ],
             [
              0.4444444444444444,
              "#bd3786"
             ],
             [
              0.5555555555555556,
              "#d8576b"
             ],
             [
              0.6666666666666666,
              "#ed7953"
             ],
             [
              0.7777777777777778,
              "#fb9f3a"
             ],
             [
              0.8888888888888888,
              "#fdca26"
             ],
             [
              1,
              "#f0f921"
             ]
            ],
            "type": "contour"
           }
          ],
          "contourcarpet": [
           {
            "colorbar": {
             "outlinewidth": 0,
             "ticks": ""
            },
            "type": "contourcarpet"
           }
          ],
          "heatmap": [
           {
            "colorbar": {
             "outlinewidth": 0,
             "ticks": ""
            },
            "colorscale": [
             [
              0,
              "#0d0887"
             ],
             [
              0.1111111111111111,
              "#46039f"
             ],
             [
              0.2222222222222222,
              "#7201a8"
             ],
             [
              0.3333333333333333,
              "#9c179e"
             ],
             [
              0.4444444444444444,
              "#bd3786"
             ],
             [
              0.5555555555555556,
              "#d8576b"
             ],
             [
              0.6666666666666666,
              "#ed7953"
             ],
             [
              0.7777777777777778,
              "#fb9f3a"
             ],
             [
              0.8888888888888888,
              "#fdca26"
             ],
             [
              1,
              "#f0f921"
             ]
            ],
            "type": "heatmap"
           }
          ],
          "histogram": [
           {
            "marker": {
             "pattern": {
              "fillmode": "overlay",
              "size": 10,
              "solidity": 0.2
             }
            },
            "type": "histogram"
           }
          ],
          "histogram2d": [
           {
            "colorbar": {
             "outlinewidth": 0,
             "ticks": ""
            },
            "colorscale": [
             [
              0,
              "#0d0887"
             ],
             [
              0.1111111111111111,
              "#46039f"
             ],
             [
              0.2222222222222222,
              "#7201a8"
             ],
             [
              0.3333333333333333,
              "#9c179e"
             ],
             [
              0.4444444444444444,
              "#bd3786"
             ],
             [
              0.5555555555555556,
              "#d8576b"
             ],
             [
              0.6666666666666666,
              "#ed7953"
             ],
             [
              0.7777777777777778,
              "#fb9f3a"
             ],
             [
              0.8888888888888888,
              "#fdca26"
             ],
             [
              1,
              "#f0f921"
             ]
            ],
            "type": "histogram2d"
           }
          ],
          "histogram2dcontour": [
           {
            "colorbar": {
             "outlinewidth": 0,
             "ticks": ""
            },
            "colorscale": [
             [
              0,
              "#0d0887"
             ],
             [
              0.1111111111111111,
              "#46039f"
             ],
             [
              0.2222222222222222,
              "#7201a8"
             ],
             [
              0.3333333333333333,
              "#9c179e"
             ],
             [
              0.4444444444444444,
              "#bd3786"
             ],
             [
              0.5555555555555556,
              "#d8576b"
             ],
             [
              0.6666666666666666,
              "#ed7953"
             ],
             [
              0.7777777777777778,
              "#fb9f3a"
             ],
             [
              0.8888888888888888,
              "#fdca26"
             ],
             [
              1,
              "#f0f921"
             ]
            ],
            "type": "histogram2dcontour"
           }
          ],
          "mesh3d": [
           {
            "colorbar": {
             "outlinewidth": 0,
             "ticks": ""
            },
            "type": "mesh3d"
           }
          ],
          "parcoords": [
           {
            "line": {
             "colorbar": {
              "outlinewidth": 0,
              "ticks": ""
             }
            },
            "type": "parcoords"
           }
          ],
          "pie": [
           {
            "automargin": true,
            "type": "pie"
           }
          ],
          "scatter": [
           {
            "fillpattern": {
             "fillmode": "overlay",
             "size": 10,
             "solidity": 0.2
            },
            "type": "scatter"
           }
          ],
          "scatter3d": [
           {
            "line": {
             "colorbar": {
              "outlinewidth": 0,
              "ticks": ""
             }
            },
            "marker": {
             "colorbar": {
              "outlinewidth": 0,
              "ticks": ""
             }
            },
            "type": "scatter3d"
           }
          ],
          "scattercarpet": [
           {
            "marker": {
             "colorbar": {
              "outlinewidth": 0,
              "ticks": ""
             }
            },
            "type": "scattercarpet"
           }
          ],
          "scattergeo": [
           {
            "marker": {
             "colorbar": {
              "outlinewidth": 0,
              "ticks": ""
             }
            },
            "type": "scattergeo"
           }
          ],
          "scattergl": [
           {
            "marker": {
             "colorbar": {
              "outlinewidth": 0,
              "ticks": ""
             }
            },
            "type": "scattergl"
           }
          ],
          "scattermap": [
           {
            "marker": {
             "colorbar": {
              "outlinewidth": 0,
              "ticks": ""
             }
            },
            "type": "scattermap"
           }
          ],
          "scattermapbox": [
           {
            "marker": {
             "colorbar": {
              "outlinewidth": 0,
              "ticks": ""
             }
            },
            "type": "scattermapbox"
           }
          ],
          "scatterpolar": [
           {
            "marker": {
             "colorbar": {
              "outlinewidth": 0,
              "ticks": ""
             }
            },
            "type": "scatterpolar"
           }
          ],
          "scatterpolargl": [
           {
            "marker": {
             "colorbar": {
              "outlinewidth": 0,
              "ticks": ""
             }
            },
            "type": "scatterpolargl"
           }
          ],
          "scatterternary": [
           {
            "marker": {
             "colorbar": {
              "outlinewidth": 0,
              "ticks": ""
             }
            },
            "type": "scatterternary"
           }
          ],
          "surface": [
           {
            "colorbar": {
             "outlinewidth": 0,
             "ticks": ""
            },
            "colorscale": [
             [
              0,
              "#0d0887"
             ],
             [
              0.1111111111111111,
              "#46039f"
             ],
             [
              0.2222222222222222,
              "#7201a8"
             ],
             [
              0.3333333333333333,
              "#9c179e"
             ],
             [
              0.4444444444444444,
              "#bd3786"
             ],
             [
              0.5555555555555556,
              "#d8576b"
             ],
             [
              0.6666666666666666,
              "#ed7953"
             ],
             [
              0.7777777777777778,
              "#fb9f3a"
             ],
             [
              0.8888888888888888,
              "#fdca26"
             ],
             [
              1,
              "#f0f921"
             ]
            ],
            "type": "surface"
           }
          ],
          "table": [
           {
            "cells": {
             "fill": {
              "color": "#EBF0F8"
             },
             "line": {
              "color": "white"
             }
            },
            "header": {
             "fill": {
              "color": "#C8D4E3"
             },
             "line": {
              "color": "white"
             }
            },
            "type": "table"
           }
          ]
         },
         "layout": {
          "annotationdefaults": {
           "arrowcolor": "#2a3f5f",
           "arrowhead": 0,
           "arrowwidth": 1
          },
          "autotypenumbers": "strict",
          "coloraxis": {
           "colorbar": {
            "outlinewidth": 0,
            "ticks": ""
           }
          },
          "colorscale": {
           "diverging": [
            [
             0,
             "#8e0152"
            ],
            [
             0.1,
             "#c51b7d"
            ],
            [
             0.2,
             "#de77ae"
            ],
            [
             0.3,
             "#f1b6da"
            ],
            [
             0.4,
             "#fde0ef"
            ],
            [
             0.5,
             "#f7f7f7"
            ],
            [
             0.6,
             "#e6f5d0"
            ],
            [
             0.7,
             "#b8e186"
            ],
            [
             0.8,
             "#7fbc41"
            ],
            [
             0.9,
             "#4d9221"
            ],
            [
             1,
             "#276419"
            ]
           ],
           "sequential": [
            [
             0,
             "#0d0887"
            ],
            [
             0.1111111111111111,
             "#46039f"
            ],
            [
             0.2222222222222222,
             "#7201a8"
            ],
            [
             0.3333333333333333,
             "#9c179e"
            ],
            [
             0.4444444444444444,
             "#bd3786"
            ],
            [
             0.5555555555555556,
             "#d8576b"
            ],
            [
             0.6666666666666666,
             "#ed7953"
            ],
            [
             0.7777777777777778,
             "#fb9f3a"
            ],
            [
             0.8888888888888888,
             "#fdca26"
            ],
            [
             1,
             "#f0f921"
            ]
           ],
           "sequentialminus": [
            [
             0,
             "#0d0887"
            ],
            [
             0.1111111111111111,
             "#46039f"
            ],
            [
             0.2222222222222222,
             "#7201a8"
            ],
            [
             0.3333333333333333,
             "#9c179e"
            ],
            [
             0.4444444444444444,
             "#bd3786"
            ],
            [
             0.5555555555555556,
             "#d8576b"
            ],
            [
             0.6666666666666666,
             "#ed7953"
            ],
            [
             0.7777777777777778,
             "#fb9f3a"
            ],
            [
             0.8888888888888888,
             "#fdca26"
            ],
            [
             1,
             "#f0f921"
            ]
           ]
          },
          "colorway": [
           "#636efa",
           "#EF553B",
           "#00cc96",
           "#ab63fa",
           "#FFA15A",
           "#19d3f3",
           "#FF6692",
           "#B6E880",
           "#FF97FF",
           "#FECB52"
          ],
          "font": {
           "color": "#2a3f5f"
          },
          "geo": {
           "bgcolor": "white",
           "lakecolor": "white",
           "landcolor": "#E5ECF6",
           "showlakes": true,
           "showland": true,
           "subunitcolor": "white"
          },
          "hoverlabel": {
           "align": "left"
          },
          "hovermode": "closest",
          "mapbox": {
           "style": "light"
          },
          "paper_bgcolor": "white",
          "plot_bgcolor": "#E5ECF6",
          "polar": {
           "angularaxis": {
            "gridcolor": "white",
            "linecolor": "white",
            "ticks": ""
           },
           "bgcolor": "#E5ECF6",
           "radialaxis": {
            "gridcolor": "white",
            "linecolor": "white",
            "ticks": ""
           }
          },
          "scene": {
           "xaxis": {
            "backgroundcolor": "#E5ECF6",
            "gridcolor": "white",
            "gridwidth": 2,
            "linecolor": "white",
            "showbackground": true,
            "ticks": "",
            "zerolinecolor": "white"
           },
           "yaxis": {
            "backgroundcolor": "#E5ECF6",
            "gridcolor": "white",
            "gridwidth": 2,
            "linecolor": "white",
            "showbackground": true,
            "ticks": "",
            "zerolinecolor": "white"
           },
           "zaxis": {
            "backgroundcolor": "#E5ECF6",
            "gridcolor": "white",
            "gridwidth": 2,
            "linecolor": "white",
            "showbackground": true,
            "ticks": "",
            "zerolinecolor": "white"
           }
          },
          "shapedefaults": {
           "line": {
            "color": "#2a3f5f"
           }
          },
          "ternary": {
           "aaxis": {
            "gridcolor": "white",
            "linecolor": "white",
            "ticks": ""
           },
           "baxis": {
            "gridcolor": "white",
            "linecolor": "white",
            "ticks": ""
           },
           "bgcolor": "#E5ECF6",
           "caxis": {
            "gridcolor": "white",
            "linecolor": "white",
            "ticks": ""
           }
          },
          "title": {
           "x": 0.05
          },
          "xaxis": {
           "automargin": true,
           "gridcolor": "white",
           "linecolor": "white",
           "ticks": "",
           "title": {
            "standoff": 15
           },
           "zerolinecolor": "white",
           "zerolinewidth": 2
          },
          "yaxis": {
           "automargin": true,
           "gridcolor": "white",
           "linecolor": "white",
           "ticks": "",
           "title": {
            "standoff": 15
           },
           "zerolinecolor": "white",
           "zerolinewidth": 2
          }
         }
        },
        "xaxis": {
         "anchor": "y",
         "domain": [
          0,
          1
         ],
         "linecolor": "#f0efed",
         "showgrid": false,
         "showline": true,
         "tickfont": {
          "color": "#f0efed",
          "weight": "bold"
         },
         "ticktext": [
          "00:00",
          "03:00",
          "06:00",
          "09:00",
          "12:00",
          "15:00",
          "18:00",
          "21:00"
         ],
         "tickvals": {
          "bdata": "AAMGCQwPEhU=",
          "dtype": "i1"
         },
         "title": {
          "font": {
           "color": "#f0efed",
           "weight": "bold"
          },
          "text": "Hour"
         },
         "zeroline": false
        },
        "yaxis": {
         "anchor": "x",
         "domain": [
          0,
          1
         ],
         "linecolor": "#f0efed",
         "range": [
          -5,
          169
         ],
         "showgrid": false,
         "showline": true,
         "tickfont": {
          "color": "#f0efed",
          "weight": "bold"
         },
         "title": {
          "font": {
           "color": "#f0efed",
           "weight": "bold"
          },
          "text": "No. of songs"
         },
         "zeroline": false
        }
       }
      }
     },
     "metadata": {},
     "output_type": "display_data"
    }
   ],
   "source": [
    "\n",
    "LGREY = \"#f0efed\"\n",
    "LIMEGREEN = \"#32cd32\"\n",
    "DGREY = \"#696865\"\n",
    "max_val = x['No. of songs'].max()\n",
    "\n",
    "# Build the line plot\n",
    "fig = px.line(\n",
    "    data_frame = x,\n",
    "    x=x[\"Hour\"], \n",
    "    y=x[\"No. of songs\"],\n",
    "    labels={\"x\": \"Hour\", \"y\": \"No. of songs\"},\n",
    ")\n",
    "\n",
    "# Style the trace\n",
    "fig.update_traces(line=dict(color=LIMEGREEN, width=2.5))\n",
    "\n",
    "# Format the layout to match your matplotlib look\n",
    "fig.update_layout(\n",
    "    paper_bgcolor=DGREY,   # figure background\n",
    "    plot_bgcolor=DGREY,    # axes background\n",
    "    font=dict(color=LGREY),    # text color\n",
    "    xaxis=dict(\n",
    "        showline=True, \n",
    "        showgrid=False,\n",
    "        zeroline=False,\n",
    "        linecolor=LGREY,\n",
    "        tickvals=np.arange(0, 24, 3),\n",
    "        ticktext=[f\"{h:02d}:00\" for h in np.arange(0, 24, 3)],\n",
    "        tickfont=dict(color=LGREY,weight='bold'),\n",
    "        title=dict(text=\"Hour\", font=dict(color=LGREY,weight='bold'))\n",
    "    ),\n",
    "    yaxis=dict(\n",
    "        showline=True, \n",
    "        showgrid=False,\n",
    "        zeroline=False,\n",
    "        linecolor=LGREY,\n",
    "        tickfont=dict(color=LGREY,weight='bold'),\n",
    "        title=dict(text=\"No. of songs\", font=dict(color=LGREY,weight='bold')),\n",
    "        range = [-5,max_val+10]\n",
    "    )\n",
    ")"
   ]
  },
  {
   "cell_type": "code",
   "execution_count": 14,
   "id": "c4fcf61a-d1aa-4107-b7b6-998ddda29468",
   "metadata": {},
   "outputs": [],
   "source": [
    "def week_calc(x):\n",
    "    if  x.replace(tzinfo=None) < datetime.datetime(year=2025,month=8,day=8,hour=23,minute=59,second=59):\n",
    "        return 1\n",
    "    elif x.replace(tzinfo=None) < datetime.datetime(year=2025,month=8,day=15,hour=23,minute=59,second=59):\n",
    "        return 2\n",
    "    elif x.replace(tzinfo=None) < datetime.datetime(year=2025,month=8,day=22,hour=23,minute=59,second=59):\n",
    "        return 3\n",
    "    elif x.replace(tzinfo=None) < datetime.datetime(year=2025,month=8,day=29,hour=23,minute=59,second=59):\n",
    "        return 4\n",
    "    elif x.replace(tzinfo=None) < datetime.datetime(year=2025,month=8,day=31,hour=23,minute=59,second=59) : \n",
    "        return 5"
   ]
  },
  {
   "cell_type": "code",
   "execution_count": 15,
   "id": "72951ba6-6f75-4bb0-9caa-28d763318a4e",
   "metadata": {},
   "outputs": [],
   "source": [
    "# week-by-week, no. of songs listened to per hour\n",
    "week_df = history.copy()\n",
    "week_df['week'] = week_df['played_at'].apply(lambda x: week_calc(x))\n",
    "grouped_week = week_df.groupby(by=['week','hour_played'])\n",
    "counts = grouped_week['id'].count().reset_index().rename(columns={'week': 'Week', 'hour_played': 'Hour'})\n",
    "all_hours = pd.merge(left=pd.Series([1,2,3,4,5],name=\"Week\"),right=pd.Series(np.arange(0,24),name=\"Hour\"),how='cross')\n",
    "counts_full = pd.merge(left=all_hours,right=counts,on=[\"Week\",\"Hour\"],how='left')\n",
    "counts_full['No. of Songs'] = counts_full['id'].fillna(0).astype(int)\n",
    "counts_full['Week'] = counts_full['Week'].astype(str)\n",
    "counts_full['Hour'] =  counts_full['Hour'].apply(lambda x: f\"{x:02d}:00\")"
   ]
  },
  {
   "cell_type": "code",
   "execution_count": 16,
   "id": "ce21cc8b-f81e-482e-a60e-cf45fb20754c",
   "metadata": {},
   "outputs": [
    {
     "data": {
      "image/png": "[encoded data removed]",
      "text/plain": [
       "<Figure size 640x480 with 1 Axes>"
      ]
     },
     "metadata": {},
     "output_type": "display_data"
    }
   ],
   "source": [
    "sns.lineplot(data=counts_full,x='Hour',y='No. of Songs',hue='Week')\n",
    "plt.xticks(list(map(lambda x: f\"{x:02d}:00\",np.arange(0,24,3))));"
   ]
  },
  {
   "cell_type": "code",
   "execution_count": 17,
   "id": "55a473c8-1b6c-4f0c-a5e5-e65c22887b14",
   "metadata": {},
   "outputs": [
    {
     "data": {
      "application/vnd.plotly.v1+json": {
       "config": {
        "plotlyServerURL": "https://plot.ly"
       },
       "data": [
        {
         "hovertemplate": "Week=1<br>Hour=%{x}<br>No. of Songs=%{y}<extra></extra>",
         "legendgroup": "1",
         "line": {
          "color": "#636efa",
          "dash": "solid",
          "width": 2.5
         },
         "marker": {
          "symbol": "circle"
         },
         "mode": "lines",
         "name": "1",
         "orientation": "v",
         "showlegend": true,
         "type": "scatter",
         "x": [
          "00:00",
          "01:00",
          "02:00",
          "03:00",
          "04:00",
          "05:00",
          "06:00",
          "07:00",
          "08:00",
          "09:00",
          "10:00",
          "11:00",
          "12:00",
          "13:00",
          "14:00",
          "15:00",
          "16:00",
          "17:00",
          "18:00",
          "19:00",
          "20:00",
          "21:00",
          "22:00",
          "23:00"
         ],
         "xaxis": "x",
         "y": {
          "bdata": "BwAAAAAAAAw+CAAAAQADGS8VFjAPDhED",
          "dtype": "i1"
         },
         "yaxis": "y"
        },
        {
         "hovertemplate": "Week=2<br>Hour=%{x}<br>No. of Songs=%{y}<extra></extra>",
         "legendgroup": "2",
         "line": {
          "color": "#EF553B",
          "dash": "solid",
          "width": 2.5
         },
         "marker": {
          "symbol": "circle"
         },
         "mode": "lines",
         "name": "2",
         "orientation": "v",
         "showlegend": true,
         "type": "scatter",
         "x": [
          "00:00",
          "01:00",
          "02:00",
          "03:00",
          "04:00",
          "05:00",
          "06:00",
          "07:00",
          "08:00",
          "09:00",
          "10:00",
          "11:00",
          "12:00",
          "13:00",
          "14:00",
          "15:00",
          "16:00",
          "17:00",
          "18:00",
          "19:00",
          "20:00",
          "21:00",
          "22:00",
          "23:00"
         ],
         "xaxis": "x",
         "y": {
          "bdata": "AAAAAAAAAAAABSATAwMKFBYQKAgHAAAD",
          "dtype": "i1"
         },
         "yaxis": "y"
        },
        {
         "hovertemplate": "Week=3<br>Hour=%{x}<br>No. of Songs=%{y}<extra></extra>",
         "legendgroup": "3",
         "line": {
          "color": "#00cc96",
          "dash": "solid",
          "width": 2.5
         },
         "marker": {
          "symbol": "circle"
         },
         "mode": "lines",
         "name": "3",
         "orientation": "v",
         "showlegend": true,
         "type": "scatter",
         "x": [
          "00:00",
          "01:00",
          "02:00",
          "03:00",
          "04:00",
          "05:00",
          "06:00",
          "07:00",
          "08:00",
          "09:00",
          "10:00",
          "11:00",
          "12:00",
          "13:00",
          "14:00",
          "15:00",
          "16:00",
          "17:00",
          "18:00",
          "19:00",
          "20:00",
          "21:00",
          "22:00",
          "23:00"
         ],
         "xaxis": "x",
         "y": {
          "bdata": "AQEAAAAAAAAFFQwgGBQYEBIWBAAQBAAB",
          "dtype": "i1"
         },
         "yaxis": "y"
        },
        {
         "hovertemplate": "Week=4<br>Hour=%{x}<br>No. of Songs=%{y}<extra></extra>",
         "legendgroup": "4",
         "line": {
          "color": "#ab63fa",
          "dash": "solid",
          "width": 2.5
         },
         "marker": {
          "symbol": "circle"
         },
         "mode": "lines",
         "name": "4",
         "orientation": "v",
         "showlegend": true,
         "type": "scatter",
         "x": [
          "00:00",
          "01:00",
          "02:00",
          "03:00",
          "04:00",
          "05:00",
          "06:00",
          "07:00",
          "08:00",
          "09:00",
          "10:00",
          "11:00",
          "12:00",
          "13:00",
          "14:00",
          "15:00",
          "16:00",
          "17:00",
          "18:00",
          "19:00",
          "20:00",
          "21:00",
          "22:00",
          "23:00"
         ],
         "xaxis": "x",
         "y": {
          "bdata": "AAAAAAAAAAAPHxYQAAYODw4gGBYGDhQG",
          "dtype": "i1"
         },
         "yaxis": "y"
        },
        {
         "hovertemplate": "Week=5<br>Hour=%{x}<br>No. of Songs=%{y}<extra></extra>",
         "legendgroup": "5",
         "line": {
          "color": "#FFA15A",
          "dash": "solid",
          "width": 2.5
         },
         "marker": {
          "symbol": "circle"
         },
         "mode": "lines",
         "name": "5",
         "orientation": "v",
         "showlegend": true,
         "type": "scatter",
         "x": [
          "00:00",
          "01:00",
          "02:00",
          "03:00",
          "04:00",
          "05:00",
          "06:00",
          "07:00",
          "08:00",
          "09:00",
          "10:00",
          "11:00",
          "12:00",
          "13:00",
          "14:00",
          "15:00",
          "16:00",
          "17:00",
          "18:00",
          "19:00",
          "20:00",
          "21:00",
          "22:00",
          "23:00"
         ],
         "xaxis": "x",
         "y": {
          "bdata": "AAAAAAAAAAAAAAkTAAAICwAEDBEOAQAC",
          "dtype": "i1"
         },
         "yaxis": "y"
        }
       ],
       "layout": {
        "font": {
         "color": "#f0efed"
        },
        "legend": {
         "title": {
          "text": "Week"
         },
         "tracegroupgap": 0
        },
        "margin": {
         "t": 60
        },
        "paper_bgcolor": "#696865",
        "plot_bgcolor": "#696865",
        "template": {
         "data": {
          "bar": [
           {
            "error_x": {
             "color": "#2a3f5f"
            },
            "error_y": {
             "color": "#2a3f5f"
            },
            "marker": {
             "line": {
              "color": "#E5ECF6",
              "width": 0.5
             },
             "pattern": {
              "fillmode": "overlay",
              "size": 10,
              "solidity": 0.2
             }
            },
            "type": "bar"
           }
          ],
          "barpolar": [
           {
            "marker": {
             "line": {
              "color": "#E5ECF6",
              "width": 0.5
             },
             "pattern": {
              "fillmode": "overlay",
              "size": 10,
              "solidity": 0.2
             }
            },
            "type": "barpolar"
           }
          ],
          "carpet": [
           {
            "aaxis": {
             "endlinecolor": "#2a3f5f",
             "gridcolor": "white",
             "linecolor": "white",
             "minorgridcolor": "white",
             "startlinecolor": "#2a3f5f"
            },
            "baxis": {
             "endlinecolor": "#2a3f5f",
             "gridcolor": "white",
             "linecolor": "white",
             "minorgridcolor": "white",
             "startlinecolor": "#2a3f5f"
            },
            "type": "carpet"
           }
          ],
          "choropleth": [
           {
            "colorbar": {
             "outlinewidth": 0,
             "ticks": ""
            },
            "type": "choropleth"
           }
          ],
          "contour": [
           {
            "colorbar": {
             "outlinewidth": 0,
             "ticks": ""
            },
            "colorscale": [
             [
              0,
              "#0d0887"
             ],
             [
              0.1111111111111111,
              "#46039f"
             ],
             [
              0.2222222222222222,
              "#7201a8"
             ],
             [
              0.3333333333333333,
              "#9c179e"
             ],
             [
              0.4444444444444444,
              "#bd3786"
             ],
             [
              0.5555555555555556,
              "#d8576b"
             ],
             [
              0.6666666666666666,
              "#ed7953"
             ],
             [
              0.7777777777777778,
              "#fb9f3a"
             ],
             [
              0.8888888888888888,
              "#fdca26"
             ],
             [
              1,
              "#f0f921"
             ]
            ],
            "type": "contour"
           }
          ],
          "contourcarpet": [
           {
            "colorbar": {
             "outlinewidth": 0,
             "ticks": ""
            },
            "type": "contourcarpet"
           }
          ],
          "heatmap": [
           {
            "colorbar": {
             "outlinewidth": 0,
             "ticks": ""
            },
            "colorscale": [
             [
              0,
              "#0d0887"
             ],
             [
              0.1111111111111111,
              "#46039f"
             ],
             [
              0.2222222222222222,
              "#7201a8"
             ],
             [
              0.3333333333333333,
              "#9c179e"
             ],
             [
              0.4444444444444444,
              "#bd3786"
             ],
             [
              0.5555555555555556,
              "#d8576b"
             ],
             [
              0.6666666666666666,
              "#ed7953"
             ],
             [
              0.7777777777777778,
              "#fb9f3a"
             ],
             [
              0.8888888888888888,
              "#fdca26"
             ],
             [
              1,
              "#f0f921"
             ]
            ],
            "type": "heatmap"
           }
          ],
          "histogram": [
           {
            "marker": {
             "pattern": {
              "fillmode": "overlay",
              "size": 10,
              "solidity": 0.2
             }
            },
            "type": "histogram"
           }
          ],
          "histogram2d": [
           {
            "colorbar": {
             "outlinewidth": 0,
             "ticks": ""
            },
            "colorscale": [
             [
              0,
              "#0d0887"
             ],
             [
              0.1111111111111111,
              "#46039f"
             ],
             [
              0.2222222222222222,
              "#7201a8"
             ],
             [
              0.3333333333333333,
              "#9c179e"
             ],
             [
              0.4444444444444444,
              "#bd3786"
             ],
             [
              0.5555555555555556,
              "#d8576b"
             ],
             [
              0.6666666666666666,
              "#ed7953"
             ],
             [
              0.7777777777777778,
              "#fb9f3a"
             ],
             [
              0.8888888888888888,
              "#fdca26"
             ],
             [
              1,
              "#f0f921"
             ]
            ],
            "type": "histogram2d"
           }
          ],
          "histogram2dcontour": [
           {
            "colorbar": {
             "outlinewidth": 0,
             "ticks": ""
            },
            "colorscale": [
             [
              0,
              "#0d0887"
             ],
             [
              0.1111111111111111,
              "#46039f"
             ],
             [
              0.2222222222222222,
              "#7201a8"
             ],
             [
              0.3333333333333333,
              "#9c179e"
             ],
             [
              0.4444444444444444,
              "#bd3786"
             ],
             [
              0.5555555555555556,
              "#d8576b"
             ],
             [
              0.6666666666666666,
              "#ed7953"
             ],
             [
              0.7777777777777778,
              "#fb9f3a"
             ],
             [
              0.8888888888888888,
              "#fdca26"
             ],
             [
              1,
              "#f0f921"
             ]
            ],
            "type": "histogram2dcontour"
           }
          ],
          "mesh3d": [
           {
            "colorbar": {
             "outlinewidth": 0,
             "ticks": ""
            },
            "type": "mesh3d"
           }
          ],
          "parcoords": [
           {
            "line": {
             "colorbar": {
              "outlinewidth": 0,
              "ticks": ""
             }
            },
            "type": "parcoords"
           }
          ],
          "pie": [
           {
            "automargin": true,
            "type": "pie"
           }
          ],
          "scatter": [
           {
            "fillpattern": {
             "fillmode": "overlay",
             "size": 10,
             "solidity": 0.2
            },
            "type": "scatter"
           }
          ],
          "scatter3d": [
           {
            "line": {
             "colorbar": {
              "outlinewidth": 0,
              "ticks": ""
             }
            },
            "marker": {
             "colorbar": {
              "outlinewidth": 0,
              "ticks": ""
             }
            },
            "type": "scatter3d"
           }
          ],
          "scattercarpet": [
           {
            "marker": {
             "colorbar": {
              "outlinewidth": 0,
              "ticks": ""
             }
            },
            "type": "scattercarpet"
           }
          ],
          "scattergeo": [
           {
            "marker": {
             "colorbar": {
              "outlinewidth": 0,
              "ticks": ""
             }
            },
            "type": "scattergeo"
           }
          ],
          "scattergl": [
           {
            "marker": {
             "colorbar": {
              "outlinewidth": 0,
              "ticks": ""
             }
            },
            "type": "scattergl"
           }
          ],
          "scattermap": [
           {
            "marker": {
             "colorbar": {
              "outlinewidth": 0,
              "ticks": ""
             }
            },
            "type": "scattermap"
           }
          ],
          "scattermapbox": [
           {
            "marker": {
             "colorbar": {
              "outlinewidth": 0,
              "ticks": ""
             }
            },
            "type": "scattermapbox"
           }
          ],
          "scatterpolar": [
           {
            "marker": {
             "colorbar": {
              "outlinewidth": 0,
              "ticks": ""
             }
            },
            "type": "scatterpolar"
           }
          ],
          "scatterpolargl": [
           {
            "marker": {
             "colorbar": {
              "outlinewidth": 0,
              "ticks": ""
             }
            },
            "type": "scatterpolargl"
           }
          ],
          "scatterternary": [
           {
            "marker": {
             "colorbar": {
              "outlinewidth": 0,
              "ticks": ""
             }
            },
            "type": "scatterternary"
           }
          ],
          "surface": [
           {
            "colorbar": {
             "outlinewidth": 0,
             "ticks": ""
            },
            "colorscale": [
             [
              0,
              "#0d0887"
             ],
             [
              0.1111111111111111,
              "#46039f"
             ],
             [
              0.2222222222222222,
              "#7201a8"
             ],
             [
              0.3333333333333333,
              "#9c179e"
             ],
             [
              0.4444444444444444,
              "#bd3786"
             ],
             [
              0.5555555555555556,
              "#d8576b"
             ],
             [
              0.6666666666666666,
              "#ed7953"
             ],
             [
              0.7777777777777778,
              "#fb9f3a"
             ],
             [
              0.8888888888888888,
              "#fdca26"
             ],
             [
              1,
              "#f0f921"
             ]
            ],
            "type": "surface"
           }
          ],
          "table": [
           {
            "cells": {
             "fill": {
              "color": "#EBF0F8"
             },
             "line": {
              "color": "white"
             }
            },
            "header": {
             "fill": {
              "color": "#C8D4E3"
             },
             "line": {
              "color": "white"
             }
            },
            "type": "table"
           }
          ]
         },
         "layout": {
          "annotationdefaults": {
           "arrowcolor": "#2a3f5f",
           "arrowhead": 0,
           "arrowwidth": 1
          },
          "autotypenumbers": "strict",
          "coloraxis": {
           "colorbar": {
            "outlinewidth": 0,
            "ticks": ""
           }
          },
          "colorscale": {
           "diverging": [
            [
             0,
             "#8e0152"
            ],
            [
             0.1,
             "#c51b7d"
            ],
            [
             0.2,
             "#de77ae"
            ],
            [
             0.3,
             "#f1b6da"
            ],
            [
             0.4,
             "#fde0ef"
            ],
            [
             0.5,
             "#f7f7f7"
            ],
            [
             0.6,
             "#e6f5d0"
            ],
            [
             0.7,
             "#b8e186"
            ],
            [
             0.8,
             "#7fbc41"
            ],
            [
             0.9,
             "#4d9221"
            ],
            [
             1,
             "#276419"
            ]
           ],
           "sequential": [
            [
             0,
             "#0d0887"
            ],
            [
             0.1111111111111111,
             "#46039f"
            ],
            [
             0.2222222222222222,
             "#7201a8"
            ],
            [
             0.3333333333333333,
             "#9c179e"
            ],
            [
             0.4444444444444444,
             "#bd3786"
            ],
            [
             0.5555555555555556,
             "#d8576b"
            ],
            [
             0.6666666666666666,
             "#ed7953"
            ],
            [
             0.7777777777777778,
             "#fb9f3a"
            ],
            [
             0.8888888888888888,
             "#fdca26"
            ],
            [
             1,
             "#f0f921"
            ]
           ],
           "sequentialminus": [
            [
             0,
             "#0d0887"
            ],
            [
             0.1111111111111111,
             "#46039f"
            ],
            [
             0.2222222222222222,
             "#7201a8"
            ],
            [
             0.3333333333333333,
             "#9c179e"
            ],
            [
             0.4444444444444444,
             "#bd3786"
            ],
            [
             0.5555555555555556,
             "#d8576b"
            ],
            [
             0.6666666666666666,
             "#ed7953"
            ],
            [
             0.7777777777777778,
             "#fb9f3a"
            ],
            [
             0.8888888888888888,
             "#fdca26"
            ],
            [
             1,
             "#f0f921"
            ]
           ]
          },
          "colorway": [
           "#636efa",
           "#EF553B",
           "#00cc96",
           "#ab63fa",
           "#FFA15A",
           "#19d3f3",
           "#FF6692",
           "#B6E880",
           "#FF97FF",
           "#FECB52"
          ],
          "font": {
           "color": "#2a3f5f"
          },
          "geo": {
           "bgcolor": "white",
           "lakecolor": "white",
           "landcolor": "#E5ECF6",
           "showlakes": true,
           "showland": true,
           "subunitcolor": "white"
          },
          "hoverlabel": {
           "align": "left"
          },
          "hovermode": "closest",
          "mapbox": {
           "style": "light"
          },
          "paper_bgcolor": "white",
          "plot_bgcolor": "#E5ECF6",
          "polar": {
           "angularaxis": {
            "gridcolor": "white",
            "linecolor": "white",
            "ticks": ""
           },
           "bgcolor": "#E5ECF6",
           "radialaxis": {
            "gridcolor": "white",
            "linecolor": "white",
            "ticks": ""
           }
          },
          "scene": {
           "xaxis": {
            "backgroundcolor": "#E5ECF6",
            "gridcolor": "white",
            "gridwidth": 2,
            "linecolor": "white",
            "showbackground": true,
            "ticks": "",
            "zerolinecolor": "white"
           },
           "yaxis": {
            "backgroundcolor": "#E5ECF6",
            "gridcolor": "white",
            "gridwidth": 2,
            "linecolor": "white",
            "showbackground": true,
            "ticks": "",
            "zerolinecolor": "white"
           },
           "zaxis": {
            "backgroundcolor": "#E5ECF6",
            "gridcolor": "white",
            "gridwidth": 2,
            "linecolor": "white",
            "showbackground": true,
            "ticks": "",
            "zerolinecolor": "white"
           }
          },
          "shapedefaults": {
           "line": {
            "color": "#2a3f5f"
           }
          },
          "ternary": {
           "aaxis": {
            "gridcolor": "white",
            "linecolor": "white",
            "ticks": ""
           },
           "baxis": {
            "gridcolor": "white",
            "linecolor": "white",
            "ticks": ""
           },
           "bgcolor": "#E5ECF6",
           "caxis": {
            "gridcolor": "white",
            "linecolor": "white",
            "ticks": ""
           }
          },
          "title": {
           "x": 0.05
          },
          "xaxis": {
           "automargin": true,
           "gridcolor": "white",
           "linecolor": "white",
           "ticks": "",
           "title": {
            "standoff": 15
           },
           "zerolinecolor": "white",
           "zerolinewidth": 2
          },
          "yaxis": {
           "automargin": true,
           "gridcolor": "white",
           "linecolor": "white",
           "ticks": "",
           "title": {
            "standoff": 15
           },
           "zerolinecolor": "white",
           "zerolinewidth": 2
          }
         }
        },
        "xaxis": {
         "anchor": "y",
         "domain": [
          0,
          1
         ],
         "linecolor": "#f0efed",
         "showgrid": false,
         "showline": true,
         "tickfont": {
          "color": "#f0efed",
          "weight": "bold"
         },
         "ticktext": [
          "00:00",
          "03:00",
          "06:00",
          "09:00",
          "12:00",
          "15:00",
          "18:00",
          "21:00"
         ],
         "tickvals": {
          "bdata": "AAMGCQwPEhU=",
          "dtype": "i1"
         },
         "title": {
          "font": {
           "color": "#f0efed",
           "weight": "bold"
          },
          "text": "Hour"
         },
         "zeroline": false
        },
        "yaxis": {
         "anchor": "x",
         "domain": [
          0,
          1
         ],
         "linecolor": "#f0efed",
         "range": [
          -5,
          72
         ],
         "showgrid": false,
         "showline": true,
         "tickfont": {
          "color": "#f0efed",
          "weight": "bold"
         },
         "title": {
          "font": {
           "color": "#f0efed",
           "weight": "bold"
          },
          "text": "No. of songs"
         },
         "zeroline": false
        }
       }
      },
      "image/png": "[encoded data removed]"
     },
     "metadata": {},
     "output_type": "display_data"
    }
   ],
   "source": [
    "LGREY = \"#f0efed\"\n",
    "LIMEGREEN = \"#32cd32\"\n",
    "DGREY = \"#696865\"\n",
    "max_val = counts_full['No. of Songs'].max()\n",
    "\n",
    "# Build the line plot\n",
    "fig = px.line(\n",
    "    data_frame = counts_full,\n",
    "    x=\"Hour\", \n",
    "    y=\"No. of Songs\",\n",
    "    color=\"Week\",\n",
    "    labels={\"x\": \"Hour\", \"y\": \"No. of songs\"},\n",
    ")\n",
    "\n",
    "# # Style the trace\n",
    "fig.update_traces(line=dict(width=2.5))\n",
    "\n",
    "# Format the layout to match your matplotlib look\n",
    "fig.update_layout(\n",
    "    paper_bgcolor=DGREY,   # figure background\n",
    "    plot_bgcolor=DGREY,    # axes background\n",
    "    font=dict(color=LGREY),    # text color\n",
    "    xaxis=dict(\n",
    "        showline=True, \n",
    "        showgrid=False,\n",
    "        zeroline=False,\n",
    "        linecolor=LGREY,\n",
    "        tickvals=np.arange(0, 24, 3),\n",
    "        ticktext=[f\"{h:02d}:00\" for h in np.arange(0, 24, 3)],\n",
    "        tickfont=dict(color=LGREY,weight='bold'),\n",
    "        title=dict(text=\"Hour\", font=dict(color=LGREY,weight='bold'))\n",
    "    ),\n",
    "    yaxis=dict(\n",
    "        showline=True, \n",
    "        showgrid=False,\n",
    "        zeroline=False,\n",
    "        linecolor=LGREY,\n",
    "        tickfont=dict(color=LGREY,weight='bold'),\n",
    "        title=dict(text=\"No. of songs\", font=dict(color=LGREY,weight='bold')),\n",
    "        range = [-5,max_val+10]\n",
    "    )\n",
    ")"
   ]
  },
  {
   "cell_type": "code",
   "execution_count": 18,
   "id": "d7840be4-55b5-48c6-8b25-9b8ca33935d4",
   "metadata": {},
   "outputs": [],
   "source": [
    "def colour_picker(df,text):\n",
    "    if text == \"\":\n",
    "        return \"rgba(80, 89, 91, 0.89)\"\n",
    "    else:\n",
    "        try: \n",
    "            watches = int(df.loc[text])\n",
    "            if watches == 1:\n",
    "                return \"rgba(49, 235, 65, 0.78)\"\n",
    "            return \"rgba(0, 144, 13, 1)\"\n",
    "        except KeyError:\n",
    "            return \"rgba(240,240,240,1)\"\n",
    "        "
   ]
  },
  {
   "cell_type": "code",
   "execution_count": 19,
   "id": "ca65564e-7636-4ea0-8a4a-bb99240df683",
   "metadata": {},
   "outputs": [],
   "source": [
    "def initialise_graph_extras(fig,song_id,date):\n",
    "    week_days = ['Monday','Tuesday','Wednesday','Thursday','Friday','Saturday','Sunday']\n",
    "    song_name = songs.loc[songs['id'] == song_id, 'name']\n",
    "    date = datetime.datetime.strptime(date,\"%Y-%m-%dT%H:%M:%S.%f\")\n",
    "    \n",
    "    if not song_name.empty:\n",
    "        artist_ids = art_song.loc[art_song['SongId'] == song_id, 'ArtistId']\n",
    "        artists_names = artists.loc[artists['id'].isin(artist_ids),'name'].drop_duplicates().to_list()\n",
    "        artists_str = \", \".join(artists_names)\n",
    "        total_str = f\"Listening History :  {song_name.item()} by \" + artists_str\n",
    "        if len(total_str) > 65:\n",
    "            total_str  = total_str[0:62] + \"...\"\n",
    "            \n",
    "        fig.add_shape(\n",
    "            type=\"rect\",\n",
    "            x0=0, y0=18, x1=5, y1=19.5,\n",
    "            line=dict(width=0),\n",
    "            fillcolor=\"rgba(255, 255, 255, 0.59)\",\n",
    "            label=dict(text=total_str, \n",
    "                       textposition=\"middle left\", font=dict(family=\"Souvenir Lt BT, bold\", size=28))\n",
    "        )\n",
    "\n",
    "    \n",
    "    fig.add_shape(\n",
    "        type=\"rect\",\n",
    "        x0=0, y0=15, x1=5, y1=16.5,\n",
    "        line=dict(width=0),\n",
    "        fillcolor=\"rgba(255, 255, 255, 0.59)\",\n",
    "        label=dict(text=f\"{date.strftime('%B').upper()} {date.strftime('%Y').upper()}\", textposition=\"middle left\", font=dict(family=\"Souvenir Lt BT, bold\", size=28,color='red'))\n",
    "    )\n",
    "        \n",
    "    for k in range(0,7):\n",
    "        fig.add_shape(\n",
    "                type=\"rect\",\n",
    "                x0=2*k, y0=12, x1=2*k+1.5, y1=13.5, \n",
    "                line=dict(color=\"grey\", width=2),\n",
    "                fillcolor=\"rgba(49, 206, 235, 0.59)\",\n",
    "                label=dict(text=week_days[k])\n",
    "            )"
   ]
  },
  {
   "cell_type": "code",
   "execution_count": 20,
   "id": "d06d5942-33a2-4b61-bdaf-035fd3c2acc2",
   "metadata": {},
   "outputs": [],
   "source": [
    "def compute_day_labels(fig,date):\n",
    "    days = [[None,None,None,None,1,2,3],np.arange(4,11),np.arange(11,18),np.arange(18,25),[25,26,27,28,29,30,31]]\n",
    "    day_labels = np.array(days)\n",
    "    return day_labels"
   ]
  },
  {
   "cell_type": "code",
   "execution_count": 21,
   "id": "d1490a3a-197c-438c-b81f-474b90d50ef4",
   "metadata": {},
   "outputs": [
    {
     "ename": "OSError",
     "evalue": "Address 'http://127.0.0.1:8050' already in use.\n    Try passing a different port to run.",
     "output_type": "error",
     "traceback": [
      "\u001b[31m---------------------------------------------------------------------------\u001b[39m",
      "\u001b[31mOSError\u001b[39m                                   Traceback (most recent call last)",
      "\u001b[36mCell\u001b[39m\u001b[36m \u001b[39m\u001b[32mIn[21]\u001b[39m\u001b[32m, line 68\u001b[39m\n\u001b[32m     65\u001b[39m     \u001b[38;5;28;01mreturn\u001b[39;00m current_date\n\u001b[32m     67\u001b[39m \u001b[38;5;28;01mif\u001b[39;00m \u001b[34m__name__\u001b[39m == \u001b[33m'\u001b[39m\u001b[33m__main__\u001b[39m\u001b[33m'\u001b[39m:\n\u001b[32m---> \u001b[39m\u001b[32m68\u001b[39m     \u001b[43mapp\u001b[49m\u001b[43m.\u001b[49m\u001b[43mrun\u001b[49m\u001b[43m(\u001b[49m\u001b[43mdebug\u001b[49m\u001b[43m=\u001b[49m\u001b[38;5;28;43;01mFalse\u001b[39;49;00m\u001b[43m)\u001b[49m\n",
      "\u001b[36mFile \u001b[39m\u001b[32m~\\AppData\\Roaming\\Python\\Python313\\site-packages\\dash\\dash.py:2353\u001b[39m, in \u001b[36mDash.run\u001b[39m\u001b[34m(self, host, port, proxy, debug, jupyter_mode, jupyter_width, jupyter_height, jupyter_server_url, dev_tools_ui, dev_tools_props_check, dev_tools_serve_dev_bundles, dev_tools_hot_reload, dev_tools_hot_reload_interval, dev_tools_hot_reload_watch_interval, dev_tools_hot_reload_max_retry, dev_tools_silence_routes_logging, dev_tools_disable_version_check, dev_tools_prune_errors, **flask_run_options)\u001b[39m\n\u001b[32m   2350\u001b[39m             extra_files.append(path)\n\u001b[32m   2352\u001b[39m \u001b[38;5;28;01mif\u001b[39;00m jupyter_dash.active:\n\u001b[32m-> \u001b[39m\u001b[32m2353\u001b[39m     \u001b[43mjupyter_dash\u001b[49m\u001b[43m.\u001b[49m\u001b[43mrun_app\u001b[49m\u001b[43m(\u001b[49m\n\u001b[32m   2354\u001b[39m \u001b[43m        \u001b[49m\u001b[38;5;28;43mself\u001b[39;49m\u001b[43m,\u001b[49m\n\u001b[32m   2355\u001b[39m \u001b[43m        \u001b[49m\u001b[43mmode\u001b[49m\u001b[43m=\u001b[49m\u001b[43mjupyter_mode\u001b[49m\u001b[43m,\u001b[49m\n\u001b[32m   2356\u001b[39m \u001b[43m        \u001b[49m\u001b[43mwidth\u001b[49m\u001b[43m=\u001b[49m\u001b[43mjupyter_width\u001b[49m\u001b[43m,\u001b[49m\n\u001b[32m   2357\u001b[39m \u001b[43m        \u001b[49m\u001b[43mheight\u001b[49m\u001b[43m=\u001b[49m\u001b[43mjupyter_height\u001b[49m\u001b[43m,\u001b[49m\n\u001b[32m   2358\u001b[39m \u001b[43m        \u001b[49m\u001b[43mhost\u001b[49m\u001b[43m=\u001b[49m\u001b[43mhost\u001b[49m\u001b[43m,\u001b[49m\n\u001b[32m   2359\u001b[39m \u001b[43m        \u001b[49m\u001b[43mport\u001b[49m\u001b[43m=\u001b[49m\u001b[43mport\u001b[49m\u001b[43m,\u001b[49m\n\u001b[32m   2360\u001b[39m \u001b[43m        \u001b[49m\u001b[43mserver_url\u001b[49m\u001b[43m=\u001b[49m\u001b[43mjupyter_server_url\u001b[49m\u001b[43m,\u001b[49m\n\u001b[32m   2361\u001b[39m \u001b[43m    \u001b[49m\u001b[43m)\u001b[49m\n\u001b[32m   2362\u001b[39m \u001b[38;5;28;01melse\u001b[39;00m:\n\u001b[32m   2363\u001b[39m     \u001b[38;5;28mself\u001b[39m.server.run(host=host, port=port, debug=debug, **flask_run_options)\n",
      "\u001b[36mFile \u001b[39m\u001b[32m~\\AppData\\Roaming\\Python\\Python313\\site-packages\\dash\\_jupyter.py:408\u001b[39m, in \u001b[36mJupyterDash.run_app\u001b[39m\u001b[34m(self, app, mode, width, height, host, port, server_url)\u001b[39m\n\u001b[32m    406\u001b[39m     display(HTML(msg))\n\u001b[32m    407\u001b[39m \u001b[38;5;28;01melse\u001b[39;00m:\n\u001b[32m--> \u001b[39m\u001b[32m408\u001b[39m     \u001b[38;5;28;01mraise\u001b[39;00m final_error\n",
      "\u001b[36mFile \u001b[39m\u001b[32m~\\AppData\\Roaming\\Python\\Python313\\site-packages\\dash\\_jupyter.py:395\u001b[39m, in \u001b[36mJupyterDash.run_app\u001b[39m\u001b[34m(self, app, mode, width, height, host, port, server_url)\u001b[39m\n\u001b[32m    392\u001b[39m         \u001b[38;5;28;01mraise\u001b[39;00m err\n\u001b[32m    394\u001b[39m \u001b[38;5;28;01mtry\u001b[39;00m:\n\u001b[32m--> \u001b[39m\u001b[32m395\u001b[39m     \u001b[43mwait_for_app\u001b[49m\u001b[43m(\u001b[49m\u001b[43m)\u001b[49m\n\u001b[32m    397\u001b[39m     \u001b[38;5;28;01mif\u001b[39;00m \u001b[38;5;28mself\u001b[39m.in_colab:\n\u001b[32m    398\u001b[39m         JupyterDash._display_in_colab(dashboard_url, port, mode, width, height)\n",
      "\u001b[36mFile \u001b[39m\u001b[32m~\\AppData\\Roaming\\Python\\Python313\\site-packages\\retrying.py:55\u001b[39m, in \u001b[36mretry.<locals>.wrap.<locals>.wrapped_f\u001b[39m\u001b[34m(*args, **kw)\u001b[39m\n\u001b[32m     53\u001b[39m \u001b[38;5;129m@wraps\u001b[39m(f)\n\u001b[32m     54\u001b[39m \u001b[38;5;28;01mdef\u001b[39;00m\u001b[38;5;250m \u001b[39m\u001b[34mwrapped_f\u001b[39m(*args, **kw):\n\u001b[32m---> \u001b[39m\u001b[32m55\u001b[39m     \u001b[38;5;28;01mreturn\u001b[39;00m \u001b[43mRetrying\u001b[49m\u001b[43m(\u001b[49m\u001b[43m*\u001b[49m\u001b[43mdargs\u001b[49m\u001b[43m,\u001b[49m\u001b[43m \u001b[49m\u001b[43m*\u001b[49m\u001b[43m*\u001b[49m\u001b[43mdkw\u001b[49m\u001b[43m)\u001b[49m\u001b[43m.\u001b[49m\u001b[43mcall\u001b[49m\u001b[43m(\u001b[49m\u001b[43mf\u001b[49m\u001b[43m,\u001b[49m\u001b[43m \u001b[49m\u001b[43m*\u001b[49m\u001b[43margs\u001b[49m\u001b[43m,\u001b[49m\u001b[43m \u001b[49m\u001b[43m*\u001b[49m\u001b[43m*\u001b[49m\u001b[43mkw\u001b[49m\u001b[43m)\u001b[49m\n",
      "\u001b[36mFile \u001b[39m\u001b[32m~\\AppData\\Roaming\\Python\\Python313\\site-packages\\retrying.py:275\u001b[39m, in \u001b[36mRetrying.call\u001b[39m\u001b[34m(self, fn, *args, **kwargs)\u001b[39m\n\u001b[32m    272\u001b[39m \u001b[38;5;28;01mif\u001b[39;00m \u001b[38;5;28mself\u001b[39m.stop(attempt_number, delay_since_first_attempt_ms):\n\u001b[32m    273\u001b[39m     \u001b[38;5;28;01mif\u001b[39;00m \u001b[38;5;129;01mnot\u001b[39;00m \u001b[38;5;28mself\u001b[39m._wrap_exception \u001b[38;5;129;01mand\u001b[39;00m attempt.has_exception:\n\u001b[32m    274\u001b[39m         \u001b[38;5;66;03m# get() on an attempt with an exception should cause it to be raised, but raise just in case\u001b[39;00m\n\u001b[32m--> \u001b[39m\u001b[32m275\u001b[39m         \u001b[38;5;28;01mraise\u001b[39;00m \u001b[43mattempt\u001b[49m\u001b[43m.\u001b[49m\u001b[43mget\u001b[49m\u001b[43m(\u001b[49m\u001b[43m)\u001b[49m\n\u001b[32m    276\u001b[39m     \u001b[38;5;28;01melse\u001b[39;00m:\n\u001b[32m    277\u001b[39m         \u001b[38;5;28;01mraise\u001b[39;00m RetryError(attempt)\n",
      "\u001b[36mFile \u001b[39m\u001b[32m~\\AppData\\Roaming\\Python\\Python313\\site-packages\\retrying.py:312\u001b[39m, in \u001b[36mAttempt.get\u001b[39m\u001b[34m(self, wrap_exception)\u001b[39m\n\u001b[32m    310\u001b[39m     \u001b[38;5;28;01melse\u001b[39;00m:\n\u001b[32m    311\u001b[39m         exc_type, exc, tb = \u001b[38;5;28mself\u001b[39m.value\n\u001b[32m--> \u001b[39m\u001b[32m312\u001b[39m         \u001b[38;5;28;01mraise\u001b[39;00m exc.with_traceback(tb)\n\u001b[32m    313\u001b[39m \u001b[38;5;28;01melse\u001b[39;00m:\n\u001b[32m    314\u001b[39m     \u001b[38;5;28;01mreturn\u001b[39;00m \u001b[38;5;28mself\u001b[39m.value\n",
      "\u001b[36mFile \u001b[39m\u001b[32m~\\AppData\\Roaming\\Python\\Python313\\site-packages\\retrying.py:259\u001b[39m, in \u001b[36mRetrying.call\u001b[39m\u001b[34m(self, fn, *args, **kwargs)\u001b[39m\n\u001b[32m    256\u001b[39m     \u001b[38;5;28mself\u001b[39m._before_attempts(attempt_number)\n\u001b[32m    258\u001b[39m \u001b[38;5;28;01mtry\u001b[39;00m:\n\u001b[32m--> \u001b[39m\u001b[32m259\u001b[39m     attempt = Attempt(\u001b[43mfn\u001b[49m\u001b[43m(\u001b[49m\u001b[43m*\u001b[49m\u001b[43margs\u001b[49m\u001b[43m,\u001b[49m\u001b[43m \u001b[49m\u001b[43m*\u001b[49m\u001b[43m*\u001b[49m\u001b[43mkwargs\u001b[49m\u001b[43m)\u001b[49m, attempt_number, \u001b[38;5;28;01mFalse\u001b[39;00m)\n\u001b[32m    260\u001b[39m \u001b[38;5;28;01mexcept\u001b[39;00m \u001b[38;5;167;01mException\u001b[39;00m:\n\u001b[32m    261\u001b[39m     tb = sys.exc_info()\n",
      "\u001b[36mFile \u001b[39m\u001b[32m~\\AppData\\Roaming\\Python\\Python313\\site-packages\\dash\\_jupyter.py:386\u001b[39m, in \u001b[36mJupyterDash.run_app.<locals>.wait_for_app\u001b[39m\u001b[34m()\u001b[39m\n\u001b[32m    384\u001b[39m     \u001b[38;5;28;01mif\u001b[39;00m res != \u001b[33m\"\u001b[39m\u001b[33mAlive\u001b[39m\u001b[33m\"\u001b[39m:\n\u001b[32m    385\u001b[39m         url = \u001b[33mf\u001b[39m\u001b[33m\"\u001b[39m\u001b[33mhttp://\u001b[39m\u001b[38;5;132;01m{\u001b[39;00mhost\u001b[38;5;132;01m}\u001b[39;00m\u001b[33m:\u001b[39m\u001b[38;5;132;01m{\u001b[39;00mport\u001b[38;5;132;01m}\u001b[39;00m\u001b[33m\"\u001b[39m\n\u001b[32m--> \u001b[39m\u001b[32m386\u001b[39m         \u001b[38;5;28;01mraise\u001b[39;00m \u001b[38;5;167;01mOSError\u001b[39;00m(\n\u001b[32m    387\u001b[39m             \u001b[33mf\u001b[39m\u001b[33m\"\u001b[39m\u001b[33mAddress \u001b[39m\u001b[33m'\u001b[39m\u001b[38;5;132;01m{\u001b[39;00murl\u001b[38;5;132;01m}\u001b[39;00m\u001b[33m'\u001b[39m\u001b[33m already in use.\u001b[39m\u001b[38;5;130;01m\\n\u001b[39;00m\u001b[33m\"\u001b[39m\n\u001b[32m    388\u001b[39m             \u001b[33m\"\u001b[39m\u001b[33m    Try passing a different port to run.\u001b[39m\u001b[33m\"\u001b[39m\n\u001b[32m    389\u001b[39m         )\n\u001b[32m    390\u001b[39m \u001b[38;5;28;01mexcept\u001b[39;00m requests.ConnectionError \u001b[38;5;28;01mas\u001b[39;00m err:\n\u001b[32m    391\u001b[39m     _get_error()\n",
      "\u001b[31mOSError\u001b[39m: Address 'http://127.0.0.1:8050' already in use.\n    Try passing a different port to run."
     ]
    }
   ],
   "source": [
    "\n",
    "app = Dash(__name__)\n",
    "song_choices = list(zip(songs['name'],songs['id']))\n",
    "fig = go.Figure()\n",
    "fig.update_xaxes(range = [-1,15],showticklabels=False,showgrid=False,zeroline=False,fixedrange=True)\n",
    "fig.update_yaxes(range = [-1,20],showticklabels=False,showgrid=False,zeroline = False,fixedrange=True)\n",
    "fig.update_layout(template='plotly_white')\n",
    "\n",
    "\n",
    "app.layout = html.Div([\n",
    "    dcc.Dropdown(\n",
    "        id='song_choice',\n",
    "        options=[{'label': song_name, 'value': song_id} for song_name,song_id in song_choices],\n",
    "        searchable=True\n",
    "    ),\n",
    "    html.Button('<',id='back',n_clicks=0),\n",
    "    html.Button('>',id='forwards',n_clicks=0),\n",
    "    dcc.Graph(id='graph',config= {'displayModeBar' : False}),\n",
    "    dcc.Store(id=\"current_date\", data=datetime.datetime.today().replace(day=1))\n",
    "])\n",
    "\n",
    "@app.callback(\n",
    "    Output('graph', 'figure'),\n",
    "    Input('song_choice', 'value'),\n",
    "    Input('current_date','data'),\n",
    ")\n",
    "def update_graph(song,date):\n",
    "    fig.layout.shapes = []\n",
    "    song_history = history[history['id'] == song][['name','played_at']]\n",
    "    song_history['day'] = song_history['played_at'].apply(lambda x : x.day)\n",
    "    counts = song_history.groupby(by='day').size()\n",
    "\n",
    "    day_labels = compute_day_labels(fig,date)\n",
    "    \n",
    "    for i in range(0,5):\n",
    "        for j in range(0,7):\n",
    "            text = \"\"\n",
    "            if day_labels[i][j] is not None:\n",
    "                text = day_labels[i][j]\n",
    "                \n",
    "            fig.add_shape(\n",
    "                type=\"rect\",\n",
    "                x0=2*j, y0=10 - 2*i, x1=2*j+1.5, y1=10 -2*i+1.5, \n",
    "                line=dict(color=\"black\", width=1),\n",
    "                fillcolor=colour_picker(counts,text),\n",
    "                label=dict(text=text)\n",
    "            )\n",
    "            \n",
    "    initialise_graph_extras(fig,song,date)\n",
    "        \n",
    "    return fig\n",
    "\n",
    "@app.callback(\n",
    "    Output('current_date','data'),\n",
    "    Input('back','n_clicks'),\n",
    "    Input('forwards','n_clicks'),\n",
    "    Input('current_date','data'),\n",
    "    prevent_initial_call=True\n",
    ")\n",
    "def update_month(back,forwards,current_date):\n",
    "    current_date = datetime.datetime.strptime(current_date,\"%Y-%m-%dT%H:%M:%S.%f\")\n",
    "    if \"back\" == ctx.triggered_id:\n",
    "        current_date = (current_date - datetime.timedelta(days=1)).replace(day=1)\n",
    "    elif \"forwards\" == ctx.triggered_id:\n",
    "        current_date = (current_date + datetime.timedelta(days=35)).replace(day=1)\n",
    "    return current_date\n",
    "    \n",
    "if __name__ == '__main__':\n",
    "    app.run(debug=False)"
   ]
  },
  {
   "cell_type": "code",
   "execution_count": 22,
   "id": "48f6a3f1-592c-40c6-be1a-0869651617d1",
   "metadata": {},
   "outputs": [],
   "source": [
    "def fix(x):\n",
    "    if x in ['Boston','Seattle','New York']:\n",
    "        return \"United States\"\n",
    "    elif x in ['England','London']:\n",
    "        return \"United Kingdom\"\n",
    "    return x"
   ]
  },
  {
   "cell_type": "code",
   "execution_count": 42,
   "id": "8c234054-b276-4cfa-8ed0-c5a13b03d60f",
   "metadata": {},
   "outputs": [
    {
     "data": {
      "text/html": [
       "<div>\n",
       "<style scoped>\n",
       "    .dataframe tbody tr th:only-of-type {\n",
       "        vertical-align: middle;\n",
       "    }\n",
       "\n",
       "    .dataframe tbody tr th {\n",
       "        vertical-align: top;\n",
       "    }\n",
       "\n",
       "    .dataframe thead th {\n",
       "        text-align: right;\n",
       "    }\n",
       "</style>\n",
       "<table border=\"1\" class=\"dataframe\">\n",
       "  <thead>\n",
       "    <tr style=\"text-align: right;\">\n",
       "      <th></th>\n",
       "      <th>country</th>\n",
       "      <th>count</th>\n",
       "    </tr>\n",
       "  </thead>\n",
       "  <tbody>\n",
       "    <tr>\n",
       "      <th>0</th>\n",
       "      <td>Australia</td>\n",
       "      <td>1</td>\n",
       "    </tr>\n",
       "    <tr>\n",
       "      <th>1</th>\n",
       "      <td>Austria</td>\n",
       "      <td>1</td>\n",
       "    </tr>\n",
       "    <tr>\n",
       "      <th>2</th>\n",
       "      <td>Belgium</td>\n",
       "      <td>1</td>\n",
       "    </tr>\n",
       "    <tr>\n",
       "      <th>3</th>\n",
       "      <td>Canada</td>\n",
       "      <td>4</td>\n",
       "    </tr>\n",
       "    <tr>\n",
       "      <th>4</th>\n",
       "      <td>France</td>\n",
       "      <td>2</td>\n",
       "    </tr>\n",
       "    <tr>\n",
       "      <th>5</th>\n",
       "      <td>Germany</td>\n",
       "      <td>3</td>\n",
       "    </tr>\n",
       "    <tr>\n",
       "      <th>6</th>\n",
       "      <td>Ireland</td>\n",
       "      <td>2</td>\n",
       "    </tr>\n",
       "    <tr>\n",
       "      <th>7</th>\n",
       "      <td>Jamaica</td>\n",
       "      <td>1</td>\n",
       "    </tr>\n",
       "    <tr>\n",
       "      <th>8</th>\n",
       "      <td>Netherlands</td>\n",
       "      <td>1</td>\n",
       "    </tr>\n",
       "    <tr>\n",
       "      <th>9</th>\n",
       "      <td>Northern Ireland</td>\n",
       "      <td>1</td>\n",
       "    </tr>\n",
       "    <tr>\n",
       "      <th>10</th>\n",
       "      <td>Norway</td>\n",
       "      <td>2</td>\n",
       "    </tr>\n",
       "    <tr>\n",
       "      <th>11</th>\n",
       "      <td>Puerto Rico</td>\n",
       "      <td>1</td>\n",
       "    </tr>\n",
       "    <tr>\n",
       "      <th>12</th>\n",
       "      <td>Scotland</td>\n",
       "      <td>1</td>\n",
       "    </tr>\n",
       "    <tr>\n",
       "      <th>13</th>\n",
       "      <td>Senegal</td>\n",
       "      <td>1</td>\n",
       "    </tr>\n",
       "    <tr>\n",
       "      <th>14</th>\n",
       "      <td>South Korea</td>\n",
       "      <td>2</td>\n",
       "    </tr>\n",
       "    <tr>\n",
       "      <th>15</th>\n",
       "      <td>Sweden</td>\n",
       "      <td>3</td>\n",
       "    </tr>\n",
       "    <tr>\n",
       "      <th>16</th>\n",
       "      <td>United Kingdom</td>\n",
       "      <td>54</td>\n",
       "    </tr>\n",
       "    <tr>\n",
       "      <th>17</th>\n",
       "      <td>United States</td>\n",
       "      <td>71</td>\n",
       "    </tr>\n",
       "  </tbody>\n",
       "</table>\n",
       "</div>"
      ],
      "text/plain": [
       "             country  count\n",
       "0          Australia      1\n",
       "1            Austria      1\n",
       "2            Belgium      1\n",
       "3             Canada      4\n",
       "4             France      2\n",
       "5            Germany      3\n",
       "6            Ireland      2\n",
       "7            Jamaica      1\n",
       "8        Netherlands      1\n",
       "9   Northern Ireland      1\n",
       "10            Norway      2\n",
       "11       Puerto Rico      1\n",
       "12          Scotland      1\n",
       "13           Senegal      1\n",
       "14       South Korea      2\n",
       "15            Sweden      3\n",
       "16    United Kingdom     54\n",
       "17     United States     71"
      ]
     },
     "execution_count": 42,
     "metadata": {},
     "output_type": "execute_result"
    }
   ],
   "source": [
    "places_df = pd.read_csv(os.getenv(\"PLACES_CSV\"),index_col=0)\n",
    "places_df = places_df.drop_duplicates()\n",
    "places_df['country'] = places_df['country'].apply(lambda x : fix(x))\n",
    "flat_numbers = places_df[['country']].groupby(['country']).size().to_frame('count').reset_index()\n",
    "flat_numbers"
   ]
  },
  {
   "cell_type": "code",
   "execution_count": 69,
   "id": "0e904cd7-db3d-4a85-a1ae-d7817918fc93",
   "metadata": {},
   "outputs": [],
   "source": [
    "country_codes = pd.read_csv(r\"C:\\Users\\annab\\OneDrive\\Documents\\coding projects\\spotify api\\csv\\wikipedia-iso-country-codes.csv\")\n",
    "country_codes = country_codes[['English short name lower case','Alpha-3 code']].rename(columns={'English short name lower case':'name','Alpha-3 code' :'code'})\n",
    "coded_counts = pd.merge(left=country_codes,right=flat_numbers,left_on='name',right_on='country',how='left')[['name','code','count']].fillna(0)\n",
    "coded_counts['logged_counts'] = coded_counts['count'].apply(lambda x : np.log10(x) if x != 0 else x)"
   ]
  },
  {
   "cell_type": "code",
   "execution_count": 24,
   "id": "b3a5c689-6f26-4b37-8784-accda9dcd57b",
   "metadata": {},
   "outputs": [],
   "source": [
    "artists_ids = pd.merge(left=songs['id'],right=art_song,left_on='id',right_on='SongId',how='left')['ArtistId']\n",
    "origins = pd.merge(left=artists_ids,right=places_df,left_on='ArtistId',right_on='id',how='left')\n",
    "prop_numbers = origins[['country']].groupby(['country']).size()"
   ]
  },
  {
   "cell_type": "code",
   "execution_count": 35,
   "id": "034e2b1b-ab47-47ff-b797-4b4a59e38ef1",
   "metadata": {},
   "outputs": [],
   "source": [
    "class toMap:\n",
    "\n",
    "    def setMap(self):\n",
    "            # # --- Save Countries, Latitudes and Longitudes ---\n",
    "            # filename = 'csv/log.csv'\n",
    "            # cnames, lats, lons = [], [], []\n",
    "        \n",
    "            # with open(filename) as f:\n",
    "            #     reader = csv.reader(f)\n",
    "            #     next(reader)\n",
    "            #     for row in reader:\n",
    "            #         cnames.append(str(row[0]))\n",
    "            #         lats.append(float(row[1]))\n",
    "            #         lons.append(float(row[2]))\n",
    "\n",
    "            self.countries_shp = shpreader.natural_earth(resolution='110m', category='cultural', name='admin_0_countries')\n",
    "            self.cmap = mpl.cm.Blues\n",
    "\n",
    "        \n",
    "    def flat_dist(self):\n",
    "        self.setMap()\n",
    "        ax = plt.axes(projection=ccrs.Robinson())\n",
    "        ax.set_title(\"Distribution of origin of artists listened to\")\n",
    "        top_appearance = flat_numbers.max()\n",
    "        norm = mcolors.LogNorm(vmin=1, vmax=top_appearance)\n",
    "        for country in shpreader.Reader(self.countries_shp).records():\n",
    "            country_name = country.attributes['NAME_LONG']\n",
    "            if country_name in flat_numbers.index:\n",
    "                appearances = flat_numbers.loc[country_name]\n",
    "                ax.add_geometries(country.geometry, ccrs.PlateCarree(),\n",
    "                                  facecolor=self.cmap(norm(appearances)),\n",
    "                                  label=country_name)\n",
    "    \n",
    "            else:\n",
    "                ax.add_geometries(country.geometry, ccrs.PlateCarree(),\n",
    "                                  facecolor='#FAFAFA',\n",
    "                                  label=country_name)\n",
    "                \n",
    "        print(pio.to_html(tls.mpl_to_plotly(ax.get_figure()), include_plotlyjs='cdn', full_html=False))\n",
    "        return pio.to_html(tls.mpl_to_plotly(ax.get_figure()), include_plotlyjs='cdn', full_html=False)\n",
    "\n",
    "    def proportional_dist(self):\n",
    "        self.setMap()\n",
    "        ax = plt.axes(projection=ccrs.Robinson())\n",
    "        ax.set_title(\"Distribution proportional to number of songs\")\n",
    "        top_appearance = prop_numbers.max()\n",
    "        norm = mcolors.LogNorm(vmin=1, vmax=top_appearance)\n",
    "        for country in shpreader.Reader(self.countries_shp).records():\n",
    "            country_name = country.attributes['NAME_LONG']\n",
    "            if country_name in prop_numbers.index:\n",
    "                appearances = prop_numbers.loc[country_name]\n",
    "                ax.add_geometries(country.geometry, ccrs.PlateCarree(),\n",
    "                                  facecolor=self.cmap(norm(appearances)),\n",
    "                                  label=country_name)\n",
    "    \n",
    "            else:\n",
    "                ax.add_geometries(country.geometry, ccrs.PlateCarree(),\n",
    "                                  facecolor=\"#FCEBEB\",\n",
    "                                  label=country_name)\n",
    "\n",
    "    \n",
    "        plt.show()\n",
    "        \n",
    "        \n"
   ]
  },
  {
   "cell_type": "code",
   "execution_count": 61,
   "id": "2d9b588e-5432-4458-b9a1-5fbad79608a8",
   "metadata": {},
   "outputs": [],
   "source": [
    "# m = toMap()\n",
    "# m.flat_dist()\n",
    "# # m.proportional_dist()"
   ]
  },
  {
   "cell_type": "code",
   "execution_count": 71,
   "id": "a42077df-a8e4-4e07-aef8-5ce95afb6256",
   "metadata": {},
   "outputs": [
    {
     "data": {
      "text/plain": [
       "'<div>                        <script type=\"text/javascript\">window.PlotlyConfig = {MathJaxConfig: \\'local\\'};</script>\\n        <script charset=\"utf-8\" src=\"https://cdn.plot.ly/plotly-3.0.1.min.js\" integrity=\"sha256-oy6Be7Eh6eiQFs5M7oXuPxxm9qbJXEtTpfSI93dW16Q=\" crossorigin=\"anonymous\"></script>                <div id=\"3d244296-758e-4c64-a2ae-ca179031e2a5\" class=\"plotly-graph-div\" style=\"height:100%; width:100%;\"></div>            <script type=\"text/javascript\">                window.PLOTLYENV=window.PLOTLYENV || {};                                if (document.getElementById(\"3d244296-758e-4c64-a2ae-ca179031e2a5\")) {                    Plotly.newPlot(                        \"3d244296-758e-4c64-a2ae-ca179031e2a5\",                        [{\"coloraxis\":\"coloraxis\",\"geo\":\"geo\",\"hovertemplate\":\"\\\\u003cb\\\\u003e%{hovertext}\\\\u003c\\\\u002fb\\\\u003e\\\\u003cbr\\\\u003e\\\\u003cbr\\\\u003ecode=%{location}\\\\u003cbr\\\\u003elogged_counts=%{z}\\\\u003cextra\\\\u003e\\\\u003c\\\\u002fextra\\\\u003e\",\"hovertext\":[\"Afghanistan\",\"Åland Islands\",\"Albania\",\"Algeria\",\"American Samoa\",\"Andorra\",\"Angola\",\"Anguilla\",\"Antarctica\",\"Antigua and Barbuda\",\"Argentina\",\"Armenia\",\"Aruba\",\"Australia\",\"Austria\",\"Azerbaijan\",\"Bahamas\",\"Bahrain\",\"Bangladesh\",\"Barbados\",\"Belarus\",\"Belgium\",\"Belize\",\"Benin\",\"Bermuda\",\"Bhutan\",\"Bolivia, Plurinational State of\",\"Bosnia and Herzegovina\",\"Botswana\",\"Bouvet Island\",\"Brazil\",\"British Indian Ocean Territory\",\"Brunei Darussalam\",\"Bulgaria\",\"Burkina Faso\",\"Burundi\",\"Cambodia\",\"Cameroon\",\"Canada\",\"Cape Verde\",\"Cayman Islands\",\"Central African Republic\",\"Chad\",\"Chile\",\"China\",\"Christmas Island\",\"Cocos (Keeling) Islands\",\"Colombia\",\"Comoros\",\"Congo\",\"Congo, the Democratic Republic of the\",\"Cook Islands\",\"Costa Rica\",\"Côte d\\'Ivoire\",\"Croatia\",\"Cuba\",\"Cyprus\",\"Czech Republic\",\"Denmark\",\"Djibouti\",\"Dominica\",\"Dominican Republic\",\"Ecuador\",\"Egypt\",\"El Salvador\",\"Equatorial Guinea\",\"Eritrea\",\"Estonia\",\"Ethiopia\",\"Falkland Islands (Malvinas)\",\"Faroe Islands\",\"Fiji\",\"Finland\",\"France\",\"French Guiana\",\"French Polynesia\",\"French Southern Territories\",\"Gabon\",\"Gambia\",\"Georgia\",\"Germany\",\"Ghana\",\"Gibraltar\",\"Greece\",\"Greenland\",\"Grenada\",\"Guadeloupe\",\"Guam\",\"Guatemala\",\"Guernsey\",\"Guinea\",\"Guinea-Bissau\",\"Guyana\",\"Haiti\",\"Heard Island and McDonald Islands\",\"Holy See (Vatican City State)\",\"Honduras\",\"Hong Kong\",\"Hungary\",\"Iceland\",\"India\",\"Indonesia\",\"Iran, Islamic Republic of\",\"Iraq\",\"Ireland\",\"Isle of Man\",\"Israel\",\"Italy\",\"Jamaica\",\"Japan\",\"Jersey\",\"Jordan\",\"Kazakhstan\",\"Kenya\",\"Kiribati\",\"Korea, Democratic People\\'s Republic of\",\"Korea, Republic of\",\"Kuwait\",\"Kyrgyzstan\",\"Lao People\\'s Democratic Republic\",\"Latvia\",\"Lebanon\",\"Lesotho\",\"Liberia\",\"Libyan Arab Jamahiriya\",\"Liechtenstein\",\"Lithuania\",\"Luxembourg\",\"Macao\",\"Macedonia, the former Yugoslav Republic of\",\"Madagascar\",\"Malawi\",\"Malaysia\",\"Maldives\",\"Mali\",\"Malta\",\"Marshall Islands\",\"Martinique\",\"Mauritania\",\"Mauritius\",\"Mayotte\",\"Mexico\",\"Micronesia, Federated States of\",\"Moldova, Republic of\",\"Monaco\",\"Mongolia\",\"Montenegro\",\"Montserrat\",\"Morocco\",\"Mozambique\",\"Myanmar\",\"Namibia\",\"Nauru\",\"Nepal\",\"Netherlands\",\"Netherlands Antilles\",\"New Caledonia\",\"New Zealand\",\"Nicaragua\",\"Niger\",\"Nigeria\",\"Niue\",\"Norfolk Island\",\"Northern Mariana Islands\",\"Norway\",\"Oman\",\"Pakistan\",\"Palau\",\"Palestinian Territory, Occupied\",\"Panama\",\"Papua New Guinea\",\"Paraguay\",\"Peru\",\"Philippines\",\"Pitcairn\",\"Poland\",\"Portugal\",\"Puerto Rico\",\"Qatar\",\"Réunion\",\"Romania\",\"Russian Federation\",\"Rwanda\",\"Saint Barthélemy\",\"Saint Helena, Ascension and Tristan da Cunha\",\"Saint Kitts and Nevis\",\"Saint Lucia\",\"Saint Martin (French part)\",\"Saint Pierre and Miquelon\",\"Saint Vincent and the Grenadines\",\"Samoa\",\"San Marino\",\"Sao Tome and Principe\",\"Saudi Arabia\",\"Senegal\",\"Serbia\",\"Seychelles\",\"Sierra Leone\",\"Singapore\",\"Slovakia\",\"Slovenia\",\"Solomon Islands\",\"Somalia\",\"South Africa\",\"South Georgia and the South Sandwich Islands\",\"Spain\",\"Sri Lanka\",\"Sudan\",\"Suriname\",\"Svalbard and Jan Mayen\",\"Swaziland\",\"Sweden\",\"Switzerland\",\"Syrian Arab Republic\",\"Taiwan, Province of China\",\"Tajikistan\",\"Tanzania, United Republic of\",\"Thailand\",\"Timor-Leste\",\"Togo\",\"Tokelau\",\"Tonga\",\"Trinidad and Tobago\",\"Tunisia\",\"Turkey\",\"Turkmenistan\",\"Turks and Caicos Islands\",\"Tuvalu\",\"Uganda\",\"Ukraine\",\"United Arab Emirates\",\"United Kingdom\",\"United States\",\"United States Minor Outlying Islands\",\"Uruguay\",\"Uzbekistan\",\"Vanuatu\",\"Venezuela, Bolivarian Republic of\",\"Viet Nam\",\"Virgin Islands, British\",\"Virgin Islands, U.S.\",\"Wallis and Futuna\",\"Western Sahara\",\"Yemen\",\"Zambia\",\"Zimbabwe\"],\"locations\":[\"AFG\",\"ALA\",\"ALB\",\"DZA\",\"ASM\",\"AND\",\"AGO\",\"AIA\",\"ATA\",\"ATG\",\"ARG\",\"ARM\",\"ABW\",\"AUS\",\"AUT\",\"AZE\",\"BHS\",\"BHR\",\"BGD\",\"BRB\",\"BLR\",\"BEL\",\"BLZ\",\"BEN\",\"BMU\",\"BTN\",\"BOL\",\"BIH\",\"BWA\",\"BVT\",\"BRA\",\"IOT\",\"BRN\",\"BGR\",\"BFA\",\"BDI\",\"KHM\",\"CMR\",\"CAN\",\"CPV\",\"CYM\",\"CAF\",\"TCD\",\"CHL\",\"CHN\",\"CXR\",\"CCK\",\"COL\",\"COM\",\"COG\",\"COD\",\"COK\",\"CRI\",\"CIV\",\"HRV\",\"CUB\",\"CYP\",\"CZE\",\"DNK\",\"DJI\",\"DMA\",\"DOM\",\"ECU\",\"EGY\",\"SLV\",\"GNQ\",\"ERI\",\"EST\",\"ETH\",\"FLK\",\"FRO\",\"FJI\",\"FIN\",\"FRA\",\"GUF\",\"PYF\",\"ATF\",\"GAB\",\"GMB\",\"GEO\",\"DEU\",\"GHA\",\"GIB\",\"GRC\",\"GRL\",\"GRD\",\"GLP\",\"GUM\",\"GTM\",\"GGY\",\"GIN\",\"GNB\",\"GUY\",\"HTI\",\"HMD\",\"VAT\",\"HND\",\"HKG\",\"HUN\",\"ISL\",\"IND\",\"IDN\",\"IRN\",\"IRQ\",\"IRL\",\"IMN\",\"ISR\",\"ITA\",\"JAM\",\"JPN\",\"JEY\",\"JOR\",\"KAZ\",\"KEN\",\"KIR\",\"PRK\",\"KOR\",\"KWT\",\"KGZ\",\"LAO\",\"LVA\",\"LBN\",\"LSO\",\"LBR\",\"LBY\",\"LIE\",\"LTU\",\"LUX\",\"MAC\",\"MKD\",\"MDG\",\"MWI\",\"MYS\",\"MDV\",\"MLI\",\"MLT\",\"MHL\",\"MTQ\",\"MRT\",\"MUS\",\"MYT\",\"MEX\",\"FSM\",\"MDA\",\"MCO\",\"MNG\",\"MNE\",\"MSR\",\"MAR\",\"MOZ\",\"MMR\",\"NAM\",\"NRU\",\"NPL\",\"NLD\",\"ANT\",\"NCL\",\"NZL\",\"NIC\",\"NER\",\"NGA\",\"NIU\",\"NFK\",\"MNP\",\"NOR\",\"OMN\",\"PAK\",\"PLW\",\"PSE\",\"PAN\",\"PNG\",\"PRY\",\"PER\",\"PHL\",\"PCN\",\"POL\",\"PRT\",\"PRI\",\"QAT\",\"REU\",\"ROU\",\"RUS\",\"RWA\",\"BLM\",\"SHN\",\"KNA\",\"LCA\",\"MAF\",\"SPM\",\"VCT\",\"WSM\",\"SMR\",\"STP\",\"SAU\",\"SEN\",\"SRB\",\"SYC\",\"SLE\",\"SGP\",\"SVK\",\"SVN\",\"SLB\",\"SOM\",\"ZAF\",\"SGS\",\"ESP\",\"LKA\",\"SDN\",\"SUR\",\"SJM\",\"SWZ\",\"SWE\",\"CHE\",\"SYR\",\"TWN\",\"TJK\",\"TZA\",\"THA\",\"TLS\",\"TGO\",\"TKL\",\"TON\",\"TTO\",\"TUN\",\"TUR\",\"TKM\",\"TCA\",\"TUV\",\"UGA\",\"UKR\",\"ARE\",\"GBR\",\"USA\",\"UMI\",\"URY\",\"UZB\",\"VUT\",\"VEN\",\"VNM\",\"VGB\",\"VIR\",\"WLF\",\"ESH\",\"YEM\",\"ZMB\",\"ZWE\"],\"name\":\"\",\"z\":{\"dtype\":\"f8\",\"bdata\":\"AAAAAAAAAAAAAAAAAAAAAAAAAAAAAAAAAAAAAAAAAAAAAAAAAAAAAAAAAAAAAAAAAAAAAAAAAAAAAAAAAAAAAAAAAAAAAAAAAAAAAAAAAAAAAAAAAAAAAAAAAAAAAAAAAAAAAAAAAAAAAAAAAAAAAAAAAAAAAAAAAAAAAAAAAAAAAAAAAAAAAAAAAAAAAAAAAAAAAAAAAAAAAAAAAAAAAAAAAAAAAAAAAAAAAAAAAAAAAAAAAAAAAAAAAAAAAAAAAAAAAAAAAAAAAAAAAAAAAAAAAAAAAAAAAAAAAAAAAAAAAAAAAAAAAAAAAAAAAAAAAAAAAAAAAAAAAAAAAAAAAAAAAAAAAAAAAAAAAAAAAAAAAAAAAAAAAAAAAAAAAAAAAAAAAAAAAAAAAAAAAAAAAP95n1ATROM\\\\u002fAAAAAAAAAAAAAAAAAAAAAAAAAAAAAAAAAAAAAAAAAAAAAAAAAAAAAAAAAAAAAAAAAAAAAAAAAAAAAAAAAAAAAAAAAAAAAAAAAAAAAAAAAAAAAAAAAAAAAAAAAAAAAAAAAAAAAAAAAAAAAAAAAAAAAAAAAAAAAAAAAAAAAAAAAAAAAAAAAAAAAAAAAAAAAAAAAAAAAAAAAAAAAAAAAAAAAAAAAAAAAAAAAAAAAAAAAAAAAAAAAAAAAAAAAAAAAAAAAAAAAAAAAAAAAAAAAAAAAAAAAAAAAAAAAAAAAAAAAAAAAAAAAAAAAAAAAAAAAAAAAAAAAAAAAAAAAAAAAAAAAAAAAAAAAAAAAAAAAAAAAAD\\\\u002feZ9QE0TTPwAAAAAAAAAAAAAAAAAAAAAAAAAAAAAAAAAAAAAAAAAAAAAAAAAAAAAAAAAAAAAAAP3VT5Ynid4\\\\u002fAAAAAAAAAAAAAAAAAAAAAAAAAAAAAAAAAAAAAAAAAAAAAAAAAAAAAAAAAAAAAAAAAAAAAAAAAAAAAAAAAAAAAAAAAAAAAAAAAAAAAAAAAAAAAAAAAAAAAAAAAAAAAAAAAAAAAAAAAAAAAAAAAAAAAAAAAAAAAAAAAAAAAAAAAAAAAAAAAAAAAAAAAAAAAAAAAAAAAAAAAAAAAAAAAAAAAAAAAAAAAAAAAAAAAAAAAAAAAAAAAAAAAP95n1ATRNM\\\\u002fAAAAAAAAAAAAAAAAAAAAAAAAAAAAAAAAAAAAAAAAAAAAAAAAAAAAAAAAAAAAAAAAAAAAAAAAAAAAAAAAAAAAAAAAAAAAAAAAAAAAAAAAAAAAAAAAAAAAAAAAAAAAAAAAAAAAAAAAAAAAAAAAAAAAAAAAAAAAAAAAAAAAAAAAAAAAAAAAAAAAAAAAAAAAAAAAAAAAAAAAAAAAAAAAAAAAAAAAAAAAAAAAAAAAAAAAAAAAAAAAAAAAAAAAAAAAAAAAAAAAAAAAAAAAAAAAAAAAAAAAAAAAAAAAAAAAAAAAAAAAAAAAAAAAAAAAAAAAAAAAAAAAAAAAAAAAAAAAAAAAAAAAAAAAAAAAAAAAAAAAAAAAAAAAAAAAAAAAAAAAAAAAAAAAAAAAAAAAAAAAAAAAAAAAAAAAAAAAAAAAAAAAAAAAAAAAAAAAAAAAAAAAAAAAAAAAAAAAAAAAAAAAAAAAAAAAAAAAAAAAAAAAAAAAAAAAAAAAAAAAAAAAAAAAAAAAAAAAAAAAAAAAAAAAAAAAAAAAAAAAAAAAAAAAAAAAAAAAAAAAAAAAAAAAAAAAAAAAAAAAAAAAAAAAAAAAAAAAAAAAAAAAAAAAAAAAAAAAAAAAAAAAAAAAAP95n1ATRNM\\\\u002fAAAAAAAAAAAAAAAAAAAAAAAAAAAAAAAAAAAAAAAAAAAAAAAAAAAAAAAAAAAAAAAAAAAAAAAAAAAAAAAAAAAAAAAAAAAAAAAAAAAAAAAAAAAAAAAAAAAAAAAAAAAAAAAAAAAAAAAAAAAAAAAAAAAAAAAAAAAAAAAAAAAAAAAAAAAAAAAAAAAAAAAAAAAAAAAAAAAAAAAAAAAAAAAAAAAAAAAAAAAAAAAAAAAAAAAAAAAAAAAAAAAAAAAAAAAAAAAAAAAAAAAAAAAAAAAAAAAAAAAAAAAAAAAAAAAAAAAAAAAAAAAAAAAAAAAAAAAAAAAAAAAAAAAAAAAAAAAAAAAAAAAAAAAAAAAAAAAAAAAAAAAAAAAAAAAAAAAAAAAAAAAAAAAAAAAAAAAAAAAAAAAAAAAAAAAAAAAAAAAAAAAAAAAAAAAAAAAAAAAAAAAAAAAAAAAAAAAAAAAAAAAAAAAAAAAAAAAAAAAAAAAAAAAAAAD91U+WJ4nePwAAAAAAAAAAAAAAAAAAAAAAAAAAAAAAAAAAAAAAAAAAAAAAAAAAAAAAAAAAAAAAAAAAAAAAAAAAAAAAAAAAAAAAAAAAAAAAAAAAAAAAAAAAAAAAAAAAAAAAAAAAAAAAAAAAAAAAAAAAAAAAAAAAAAAAAAAAAAAAAAAAAAAAAAAAAAAAAAAAAAAAAAAAAAAAAAAAAAAAAAAA\\\\u002fr7jhOK3+z9TIAMTwZ79PwAAAAAAAAAAAAAAAAAAAAAAAAAAAAAAAAAAAAAAAAAAAAAAAAAAAAAAAAAAAAAAAAAAAAAAAAAAAAAAAAAAAAAAAAAAAAAAAAAAAAAAAAAAAAAAAAAAAAAAAAAAAAAAAAAAAAAAAAAA\"},\"type\":\"choropleth\"}],                        {\"template\":{\"data\":{\"histogram2dcontour\":[{\"type\":\"histogram2dcontour\",\"colorbar\":{\"outlinewidth\":0,\"ticks\":\"\"},\"colorscale\":[[0.0,\"#0d0887\"],[0.1111111111111111,\"#46039f\"],[0.2222222222222222,\"#7201a8\"],[0.3333333333333333,\"#9c179e\"],[0.4444444444444444,\"#bd3786\"],[0.5555555555555556,\"#d8576b\"],[0.6666666666666666,\"#ed7953\"],[0.7777777777777778,\"#fb9f3a\"],[0.8888888888888888,\"#fdca26\"],[1.0,\"#f0f921\"]]}],\"choropleth\":[{\"type\":\"choropleth\",\"colorbar\":{\"outlinewidth\":0,\"ticks\":\"\"}}],\"histogram2d\":[{\"type\":\"histogram2d\",\"colorbar\":{\"outlinewidth\":0,\"ticks\":\"\"},\"colorscale\":[[0.0,\"#0d0887\"],[0.1111111111111111,\"#46039f\"],[0.2222222222222222,\"#7201a8\"],[0.3333333333333333,\"#9c179e\"],[0.4444444444444444,\"#bd3786\"],[0.5555555555555556,\"#d8576b\"],[0.6666666666666666,\"#ed7953\"],[0.7777777777777778,\"#fb9f3a\"],[0.8888888888888888,\"#fdca26\"],[1.0,\"#f0f921\"]]}],\"heatmap\":[{\"type\":\"heatmap\",\"colorbar\":{\"outlinewidth\":0,\"ticks\":\"\"},\"colorscale\":[[0.0,\"#0d0887\"],[0.1111111111111111,\"#46039f\"],[0.2222222222222222,\"#7201a8\"],[0.3333333333333333,\"#9c179e\"],[0.4444444444444444,\"#bd3786\"],[0.5555555555555556,\"#d8576b\"],[0.6666666666666666,\"#ed7953\"],[0.7777777777777778,\"#fb9f3a\"],[0.8888888888888888,\"#fdca26\"],[1.0,\"#f0f921\"]]}],\"contourcarpet\":[{\"type\":\"contourcarpet\",\"colorbar\":{\"outlinewidth\":0,\"ticks\":\"\"}}],\"contour\":[{\"type\":\"contour\",\"colorbar\":{\"outlinewidth\":0,\"ticks\":\"\"},\"colorscale\":[[0.0,\"#0d0887\"],[0.1111111111111111,\"#46039f\"],[0.2222222222222222,\"#7201a8\"],[0.3333333333333333,\"#9c179e\"],[0.4444444444444444,\"#bd3786\"],[0.5555555555555556,\"#d8576b\"],[0.6666666666666666,\"#ed7953\"],[0.7777777777777778,\"#fb9f3a\"],[0.8888888888888888,\"#fdca26\"],[1.0,\"#f0f921\"]]}],\"surface\":[{\"type\":\"surface\",\"colorbar\":{\"outlinewidth\":0,\"ticks\":\"\"},\"colorscale\":[[0.0,\"#0d0887\"],[0.1111111111111111,\"#46039f\"],[0.2222222222222222,\"#7201a8\"],[0.3333333333333333,\"#9c179e\"],[0.4444444444444444,\"#bd3786\"],[0.5555555555555556,\"#d8576b\"],[0.6666666666666666,\"#ed7953\"],[0.7777777777777778,\"#fb9f3a\"],[0.8888888888888888,\"#fdca26\"],[1.0,\"#f0f921\"]]}],\"mesh3d\":[{\"type\":\"mesh3d\",\"colorbar\":{\"outlinewidth\":0,\"ticks\":\"\"}}],\"scatter\":[{\"fillpattern\":{\"fillmode\":\"overlay\",\"size\":10,\"solidity\":0.2},\"type\":\"scatter\"}],\"parcoords\":[{\"type\":\"parcoords\",\"line\":{\"colorbar\":{\"outlinewidth\":0,\"ticks\":\"\"}}}],\"scatterpolargl\":[{\"type\":\"scatterpolargl\",\"marker\":{\"colorbar\":{\"outlinewidth\":0,\"ticks\":\"\"}}}],\"bar\":[{\"error_x\":{\"color\":\"#2a3f5f\"},\"error_y\":{\"color\":\"#2a3f5f\"},\"marker\":{\"line\":{\"color\":\"#E5ECF6\",\"width\":0.5},\"pattern\":{\"fillmode\":\"overlay\",\"size\":10,\"solidity\":0.2}},\"type\":\"bar\"}],\"scattergeo\":[{\"type\":\"scattergeo\",\"marker\":{\"colorbar\":{\"outlinewidth\":0,\"ticks\":\"\"}}}],\"scatterpolar\":[{\"type\":\"scatterpolar\",\"marker\":{\"colorbar\":{\"outlinewidth\":0,\"ticks\":\"\"}}}],\"histogram\":[{\"marker\":{\"pattern\":{\"fillmode\":\"overlay\",\"size\":10,\"solidity\":0.2}},\"type\":\"histogram\"}],\"scattergl\":[{\"type\":\"scattergl\",\"marker\":{\"colorbar\":{\"outlinewidth\":0,\"ticks\":\"\"}}}],\"scatter3d\":[{\"type\":\"scatter3d\",\"line\":{\"colorbar\":{\"outlinewidth\":0,\"ticks\":\"\"}},\"marker\":{\"colorbar\":{\"outlinewidth\":0,\"ticks\":\"\"}}}],\"scattermap\":[{\"type\":\"scattermap\",\"marker\":{\"colorbar\":{\"outlinewidth\":0,\"ticks\":\"\"}}}],\"scattermapbox\":[{\"type\":\"scattermapbox\",\"marker\":{\"colorbar\":{\"outlinewidth\":0,\"ticks\":\"\"}}}],\"scatterternary\":[{\"type\":\"scatterternary\",\"marker\":{\"colorbar\":{\"outlinewidth\":0,\"ticks\":\"\"}}}],\"scattercarpet\":[{\"type\":\"scattercarpet\",\"marker\":{\"colorbar\":{\"outlinewidth\":0,\"ticks\":\"\"}}}],\"carpet\":[{\"aaxis\":{\"endlinecolor\":\"#2a3f5f\",\"gridcolor\":\"white\",\"linecolor\":\"white\",\"minorgridcolor\":\"white\",\"startlinecolor\":\"#2a3f5f\"},\"baxis\":{\"endlinecolor\":\"#2a3f5f\",\"gridcolor\":\"white\",\"linecolor\":\"white\",\"minorgridcolor\":\"white\",\"startlinecolor\":\"#2a3f5f\"},\"type\":\"carpet\"}],\"table\":[{\"cells\":{\"fill\":{\"color\":\"#EBF0F8\"},\"line\":{\"color\":\"white\"}},\"header\":{\"fill\":{\"color\":\"#C8D4E3\"},\"line\":{\"color\":\"white\"}},\"type\":\"table\"}],\"barpolar\":[{\"marker\":{\"line\":{\"color\":\"#E5ECF6\",\"width\":0.5},\"pattern\":{\"fillmode\":\"overlay\",\"size\":10,\"solidity\":0.2}},\"type\":\"barpolar\"}],\"pie\":[{\"automargin\":true,\"type\":\"pie\"}]},\"layout\":{\"autotypenumbers\":\"strict\",\"colorway\":[\"#636efa\",\"#EF553B\",\"#00cc96\",\"#ab63fa\",\"#FFA15A\",\"#19d3f3\",\"#FF6692\",\"#B6E880\",\"#FF97FF\",\"#FECB52\"],\"font\":{\"color\":\"#2a3f5f\"},\"hovermode\":\"closest\",\"hoverlabel\":{\"align\":\"left\"},\"paper_bgcolor\":\"white\",\"plot_bgcolor\":\"#E5ECF6\",\"polar\":{\"bgcolor\":\"#E5ECF6\",\"angularaxis\":{\"gridcolor\":\"white\",\"linecolor\":\"white\",\"ticks\":\"\"},\"radialaxis\":{\"gridcolor\":\"white\",\"linecolor\":\"white\",\"ticks\":\"\"}},\"ternary\":{\"bgcolor\":\"#E5ECF6\",\"aaxis\":{\"gridcolor\":\"white\",\"linecolor\":\"white\",\"ticks\":\"\"},\"baxis\":{\"gridcolor\":\"white\",\"linecolor\":\"white\",\"ticks\":\"\"},\"caxis\":{\"gridcolor\":\"white\",\"linecolor\":\"white\",\"ticks\":\"\"}},\"coloraxis\":{\"colorbar\":{\"outlinewidth\":0,\"ticks\":\"\"}},\"colorscale\":{\"sequential\":[[0.0,\"#0d0887\"],[0.1111111111111111,\"#46039f\"],[0.2222222222222222,\"#7201a8\"],[0.3333333333333333,\"#9c179e\"],[0.4444444444444444,\"#bd3786\"],[0.5555555555555556,\"#d8576b\"],[0.6666666666666666,\"#ed7953\"],[0.7777777777777778,\"#fb9f3a\"],[0.8888888888888888,\"#fdca26\"],[1.0,\"#f0f921\"]],\"sequentialminus\":[[0.0,\"#0d0887\"],[0.1111111111111111,\"#46039f\"],[0.2222222222222222,\"#7201a8\"],[0.3333333333333333,\"#9c179e\"],[0.4444444444444444,\"#bd3786\"],[0.5555555555555556,\"#d8576b\"],[0.6666666666666666,\"#ed7953\"],[0.7777777777777778,\"#fb9f3a\"],[0.8888888888888888,\"#fdca26\"],[1.0,\"#f0f921\"]],\"diverging\":[[0,\"#8e0152\"],[0.1,\"#c51b7d\"],[0.2,\"#de77ae\"],[0.3,\"#f1b6da\"],[0.4,\"#fde0ef\"],[0.5,\"#f7f7f7\"],[0.6,\"#e6f5d0\"],[0.7,\"#b8e186\"],[0.8,\"#7fbc41\"],[0.9,\"#4d9221\"],[1,\"#276419\"]]},\"xaxis\":{\"gridcolor\":\"white\",\"linecolor\":\"white\",\"ticks\":\"\",\"title\":{\"standoff\":15},\"zerolinecolor\":\"white\",\"automargin\":true,\"zerolinewidth\":2},\"yaxis\":{\"gridcolor\":\"white\",\"linecolor\":\"white\",\"ticks\":\"\",\"title\":{\"standoff\":15},\"zerolinecolor\":\"white\",\"automargin\":true,\"zerolinewidth\":2},\"scene\":{\"xaxis\":{\"backgroundcolor\":\"#E5ECF6\",\"gridcolor\":\"white\",\"linecolor\":\"white\",\"showbackground\":true,\"ticks\":\"\",\"zerolinecolor\":\"white\",\"gridwidth\":2},\"yaxis\":{\"backgroundcolor\":\"#E5ECF6\",\"gridcolor\":\"white\",\"linecolor\":\"white\",\"showbackground\":true,\"ticks\":\"\",\"zerolinecolor\":\"white\",\"gridwidth\":2},\"zaxis\":{\"backgroundcolor\":\"#E5ECF6\",\"gridcolor\":\"white\",\"linecolor\":\"white\",\"showbackground\":true,\"ticks\":\"\",\"zerolinecolor\":\"white\",\"gridwidth\":2}},\"shapedefaults\":{\"line\":{\"color\":\"#2a3f5f\"}},\"annotationdefaults\":{\"arrowcolor\":\"#2a3f5f\",\"arrowhead\":0,\"arrowwidth\":1},\"geo\":{\"bgcolor\":\"white\",\"landcolor\":\"#E5ECF6\",\"subunitcolor\":\"white\",\"showland\":true,\"showlakes\":true,\"lakecolor\":\"white\"},\"title\":{\"x\":0.05},\"mapbox\":{\"style\":\"light\"}}},\"geo\":{\"domain\":{\"x\":[0.0,1.0],\"y\":[0.0,1.0]},\"center\":{}},\"coloraxis\":{\"colorbar\":{\"title\":{\"text\":\"logged_counts\"}},\"colorscale\":[[0.0,\"#0d0887\"],[0.1111111111111111,\"#46039f\"],[0.2222222222222222,\"#7201a8\"],[0.3333333333333333,\"#9c179e\"],[0.4444444444444444,\"#bd3786\"],[0.5555555555555556,\"#d8576b\"],[0.6666666666666666,\"#ed7953\"],[0.7777777777777778,\"#fb9f3a\"],[0.8888888888888888,\"#fdca26\"],[1.0,\"#f0f921\"]]},\"legend\":{\"tracegroupgap\":0},\"margin\":{\"t\":60}},                        {\"responsive\": true}                    )                };            </script>        </div>'"
      ]
     },
     "execution_count": 71,
     "metadata": {},
     "output_type": "execute_result"
    }
   ],
   "source": [
    "fig = px.choropleth(coded_counts, locations=\"code\",\n",
    "                    color=\"logged_counts\", # lifeExp is a column of gapminder\n",
    "                    hover_name=\"name\", # column to add to hover information\n",
    "                    color_continuous_scale=px.colors.sequential.Plasma)\n",
    "pio.to_html(fig, include_plotlyjs='cdn', full_html=False)"
   ]
  },
  {
   "cell_type": "code",
   "execution_count": null,
   "id": "d4c8e84e-5e74-449c-91db-ada1c99af116",
   "metadata": {},
   "outputs": [],
   "source": []
  },
  {
   "cell_type": "code",
   "execution_count": null,
   "id": "3ffe1272-6cf2-4269-84b6-fd1a777328f6",
   "metadata": {},
   "outputs": [],
   "source": []
  },
  {
   "cell_type": "code",
   "execution_count": null,
   "id": "1d40107f-812f-464b-8689-90cd9b7d26dd",
   "metadata": {},
   "outputs": [],
   "source": []
  }
 ],
 "metadata": {
  "kernelspec": {
   "display_name": "Python 3",
   "language": "python",
   "name": "python3"
  },
  "language_info": {
   "codemirror_mode": {
    "name": "ipython",
    "version": 3
   },
   "file_extension": ".py",
   "mimetype": "text/x-python",
   "name": "python",
   "nbconvert_exporter": "python",
   "pygments_lexer": "ipython3",
   "version": "3.13.1"
  }
 },
 "nbformat": 4,
 "nbformat_minor": 5
}
